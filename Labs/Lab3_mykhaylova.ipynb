{
 "cells": [
  {
   "cell_type": "markdown",
   "metadata": {},
   "source": [
    "#### This Lab opens at 6 am on 9/8/21 and closes at 11:59 pm on  9/10/21"
   ]
  },
  {
   "cell_type": "markdown",
   "metadata": {},
   "source": [
    "This Lab explores ways to calculate basic statistics, measure of spread and making a box plot for numeric variables in the data called grbooks.csv. This is a data frame with authors, book names and ratings etc. Please make sure to create a folder called Lab 3 in your DS 201 folder and save this ipynb file together with grbooks data. That way all of your solutions are separated from your other ipynb files and it  will be easier to find the solution when it is time to submit.\n"
   ]
  },
  {
   "cell_type": "markdown",
   "metadata": {},
   "source": [
    "Let's start by importing all the necessory packages and the data"
   ]
  },
  {
   "cell_type": "code",
   "execution_count": 1,
   "metadata": {},
   "outputs": [],
   "source": [
    "import pandas as pd\n",
    "import numpy as np\n",
    "import matplotlib as mpl\n",
    "import matplotlib.pyplot as mpt\n",
    "import seaborn as sbn\n",
    "cols=['author_name','book_title', 'book_average_rating', 'num_ratings', 'num_reviews',\n",
    "        'score']"
   ]
  },
  {
   "cell_type": "markdown",
   "metadata": {},
   "source": [
    "### Problem 1 (10 points)\n",
    "After you upload the data, find the standard deviation, and mean absolute deviation(MAD) of 4 numerical variables listed in the previous cell. Find the variables with the lowest and highest standard deviation among these 4 variables. Do the same for MAD.  Comment on what it means for these variables to have the lowest $\\sigma$, highest $\\sigma$, lowest MAD, and highest MAD. "
   ]
  },
  {
   "cell_type": "code",
   "execution_count": null,
   "metadata": {},
   "outputs": [],
   "source": [
    "import pandas as pd\n",
    "import numpy as np\n",
    "import matplotlib as mpl\n",
    "import matplotlib.pyplot as mpt\n",
    "import seaborn as sbn\n",
    "cols=['author_name','book_title', 'book_average_rating', 'num_ratings', 'num_reviews',\n",
    "        'score']"
   ]
  },
  {
   "cell_type": "code",
   "execution_count": 3,
   "metadata": {},
   "outputs": [],
   "source": [
    "books = pd.read_csv('grbooks.csv')"
   ]
  },
  {
   "cell_type": "code",
   "execution_count": 58,
   "metadata": {},
   "outputs": [],
   "source": [
    "books1 = pd.DataFrame({'book_average_rating':books['book_average_rating'], 'num_ratings':books['num_ratings'], 'num_reviews':books['num_reviews'], 'score':books['score'],})"
   ]
  },
  {
   "cell_type": "code",
   "execution_count": 61,
   "metadata": {},
   "outputs": [
    {
     "data": {
      "text/plain": [
       "book_average_rating         0.291317\n",
       "num_ratings            180069.814253\n",
       "num_reviews              6837.503574\n",
       "score                   11022.018268\n",
       "dtype: float64"
      ]
     },
     "execution_count": 61,
     "metadata": {},
     "output_type": "execute_result"
    }
   ],
   "source": [
    "books1.std()"
   ]
  },
  {
   "cell_type": "markdown",
   "metadata": {},
   "source": [
    "High standard deviation means that there are values that are more spread out from the mean, while low standard deviation means the values are more clustered around the mean."
   ]
  },
  {
   "cell_type": "code",
   "execution_count": 62,
   "metadata": {},
   "outputs": [
    {
     "data": {
      "text/plain": [
       "book_average_rating        0.225215\n",
       "num_ratings            66577.853866\n",
       "num_reviews             3016.061533\n",
       "score                   3721.948295\n",
       "dtype: float64"
      ]
     },
     "execution_count": 62,
     "metadata": {},
     "output_type": "execute_result"
    }
   ],
   "source": [
    "books1.mad()"
   ]
  },
  {
   "cell_type": "markdown",
   "metadata": {},
   "source": [
    "High mean absolute deviation means that the average distance between each data value and the mean is great, while low mean absolute deviation means that the average distance between each data value and the mean is very little, or more clustered."
   ]
  },
  {
   "cell_type": "markdown",
   "metadata": {},
   "source": [
    "### Problem 2 ( 10 points)\n",
    "Find the first quartile  (Q1), second quartile (Q2 = Median), and the third quartile(Q3) of the four numerical columns. Which variables have the lowest and highest interquartile range (IQR)? You can use the Quantile function in pandas to find these. More about quantile function is here.\n",
    "https://pandas.pydata.org/pandas-docs/stable/reference/api/pandas.DataFrame.quantile.html and here \n",
    "https://stats.stackexchange.com/questions/156778/percentile-vs-quantile-vs-quartile"
   ]
  },
  {
   "cell_type": "code",
   "execution_count": 63,
   "metadata": {},
   "outputs": [
    {
     "data": {
      "text/html": [
       "<div>\n",
       "<style scoped>\n",
       "    .dataframe tbody tr th:only-of-type {\n",
       "        vertical-align: middle;\n",
       "    }\n",
       "\n",
       "    .dataframe tbody tr th {\n",
       "        vertical-align: top;\n",
       "    }\n",
       "\n",
       "    .dataframe thead th {\n",
       "        text-align: right;\n",
       "    }\n",
       "</style>\n",
       "<table border=\"1\" class=\"dataframe\">\n",
       "  <thead>\n",
       "    <tr style=\"text-align: right;\">\n",
       "      <th></th>\n",
       "      <th>book_average_rating</th>\n",
       "      <th>num_ratings</th>\n",
       "      <th>num_reviews</th>\n",
       "      <th>score</th>\n",
       "    </tr>\n",
       "  </thead>\n",
       "  <tbody>\n",
       "    <tr>\n",
       "      <th>0.25</th>\n",
       "      <td>3.77</td>\n",
       "      <td>820.0</td>\n",
       "      <td>106.0</td>\n",
       "      <td>832.0</td>\n",
       "    </tr>\n",
       "    <tr>\n",
       "      <th>0.50</th>\n",
       "      <td>3.96</td>\n",
       "      <td>4403.0</td>\n",
       "      <td>384.0</td>\n",
       "      <td>1727.0</td>\n",
       "    </tr>\n",
       "    <tr>\n",
       "      <th>0.75</th>\n",
       "      <td>4.14</td>\n",
       "      <td>20143.0</td>\n",
       "      <td>1504.0</td>\n",
       "      <td>3597.5</td>\n",
       "    </tr>\n",
       "  </tbody>\n",
       "</table>\n",
       "</div>"
      ],
      "text/plain": [
       "      book_average_rating  num_ratings  num_reviews   score\n",
       "0.25                 3.77        820.0        106.0   832.0\n",
       "0.50                 3.96       4403.0        384.0  1727.0\n",
       "0.75                 4.14      20143.0       1504.0  3597.5"
      ]
     },
     "execution_count": 63,
     "metadata": {},
     "output_type": "execute_result"
    }
   ],
   "source": [
    "quart = books1.quantile([0.25, 0.5, 0.75])\n",
    "quart"
   ]
  },
  {
   "cell_type": "code",
   "execution_count": 76,
   "metadata": {},
   "outputs": [
    {
     "data": {
      "text/plain": [
       "book_average_rating        4.14\n",
       "num_ratings            20143.00\n",
       "num_reviews             1504.00\n",
       "score                   3597.50\n",
       "dtype: float64"
      ]
     },
     "execution_count": 76,
     "metadata": {},
     "output_type": "execute_result"
    }
   ],
   "source": [
    "q3 = books1.quantile([0.75]).max()\n",
    "q3"
   ]
  },
  {
   "cell_type": "code",
   "execution_count": 77,
   "metadata": {},
   "outputs": [
    {
     "data": {
      "text/plain": [
       "book_average_rating      3.77\n",
       "num_ratings            820.00\n",
       "num_reviews            106.00\n",
       "score                  832.00\n",
       "dtype: float64"
      ]
     },
     "execution_count": 77,
     "metadata": {},
     "output_type": "execute_result"
    }
   ],
   "source": [
    "q1 = books1.quantile([0.25]).max()\n",
    "q1"
   ]
  },
  {
   "cell_type": "code",
   "execution_count": 80,
   "metadata": {},
   "outputs": [
    {
     "data": {
      "text/plain": [
       "book_average_rating        0.37\n",
       "num_ratings            19323.00\n",
       "num_reviews             1398.00\n",
       "score                   2765.50\n",
       "dtype: float64"
      ]
     },
     "execution_count": 80,
     "metadata": {},
     "output_type": "execute_result"
    }
   ],
   "source": [
    "range = q3-q1\n",
    "range"
   ]
  },
  {
   "cell_type": "markdown",
   "metadata": {},
   "source": [
    "Variable with the lowest IQR is book_average_rating. Variable with the highest IQR is num_ratings."
   ]
  },
  {
   "cell_type": "markdown",
   "metadata": {},
   "source": [
    "### Problem 3 ( 10 points)\n",
    "Find the range of all 4 numerical columns. Range, by definition, is maximum minus the minimum for each variable. Using the range as a measure of spread, which variable data is ideal (symmetric), and which variable is most skewed?"
   ]
  },
  {
   "cell_type": "code",
   "execution_count": 81,
   "metadata": {},
   "outputs": [
    {
     "data": {
      "text/plain": [
       "book_average_rating          5.0\n",
       "num_ratings            3820921.0\n",
       "num_reviews             147696.0\n",
       "score                   598215.0\n",
       "dtype: float64"
      ]
     },
     "execution_count": 81,
     "metadata": {},
     "output_type": "execute_result"
    }
   ],
   "source": [
    "range = books1.max()-books1.min()\n",
    "range"
   ]
  },
  {
   "cell_type": "markdown",
   "metadata": {},
   "source": [
    "Variable that is most ideal is book_average_rating. Variable that is most skewed is num_ratings."
   ]
  },
  {
   "cell_type": "markdown",
   "metadata": {},
   "source": [
    "### Problem 4 ( 10 points)\n",
    "We will find outliers in our data on this problem. For any variable, if any data falls below\n",
    "the number $ Q1- 1.5 IQR$ or falls above the number $ Q3+ 1.5 IQR$ then those data points are outliers. Note that $IQR = Q3 - Q1$. Find how many outliers doeas each numerical variables have?"
   ]
  },
  {
   "cell_type": "code",
   "execution_count": 85,
   "metadata": {},
   "outputs": [
    {
     "data": {
      "text/plain": [
       "<bound method NDFrame.describe of        book_average_rating  num_ratings  num_reviews  score\n",
       "0                     4.02         5260          375   3230\n",
       "1                     4.13      2229163        65227   3062\n",
       "2                     3.99         2151          391   4585\n",
       "3                     4.14         1844          173   1533\n",
       "4                     4.01        17051         1890   2105\n",
       "...                    ...          ...          ...    ...\n",
       "22886                 3.82          430           33   1215\n",
       "22887                 4.56           82           57   1321\n",
       "22888                 3.73         2698          375   1679\n",
       "22889                 3.89          356           38   1897\n",
       "22890                 4.57           88           14   3250\n",
       "\n",
       "[22891 rows x 4 columns]>"
      ]
     },
     "execution_count": 85,
     "metadata": {},
     "output_type": "execute_result"
    }
   ],
   "source": [
    "books1.describe"
   ]
  },
  {
   "cell_type": "code",
   "execution_count": 97,
   "metadata": {},
   "outputs": [
    {
     "data": {
      "text/plain": [
       "book_average_rating    423\n",
       "num_ratings            423\n",
       "num_reviews            423\n",
       "score                  423\n",
       "dtype: int64"
      ]
     },
     "execution_count": 97,
     "metadata": {},
     "output_type": "execute_result"
    }
   ],
   "source": [
    "books1[(books1.book_average_rating < 3.77 - 1.5 * 0.37) | (books1.book_average_rating > 4.14 + 1.5 * 0.37)].count()"
   ]
  },
  {
   "cell_type": "markdown",
   "metadata": {},
   "source": [
    "book_average_rating has 423 outliers."
   ]
  },
  {
   "cell_type": "code",
   "execution_count": 105,
   "metadata": {},
   "outputs": [
    {
     "data": {
      "text/plain": [
       "book_average_rating    3516\n",
       "num_ratings            3516\n",
       "num_reviews            3516\n",
       "score                  3516\n",
       "dtype: int64"
      ]
     },
     "execution_count": 105,
     "metadata": {},
     "output_type": "execute_result"
    }
   ],
   "source": [
    "books1[(books1.num_ratings < (820.0 - 1.5 * 19323.00)) | (books1.num_ratings > (20143.00 + 1.5 * 19323.00))].count()"
   ]
  },
  {
   "cell_type": "markdown",
   "metadata": {},
   "source": [
    "num_ratings has 3516 outliers."
   ]
  },
  {
   "cell_type": "code",
   "execution_count": 107,
   "metadata": {},
   "outputs": [
    {
     "data": {
      "text/plain": [
       "book_average_rating    3086\n",
       "num_ratings            3086\n",
       "num_reviews            3086\n",
       "score                  3086\n",
       "dtype: int64"
      ]
     },
     "execution_count": 107,
     "metadata": {},
     "output_type": "execute_result"
    }
   ],
   "source": [
    "books1[(books1.num_reviews < (106.0 - 1.5 * 1398.00)) | (books1.num_reviews > (1504.00 + 1.5 * 1398.00))].count()"
   ]
  },
  {
   "cell_type": "markdown",
   "metadata": {},
   "source": [
    "num_reviews has 3086 outliers."
   ]
  },
  {
   "cell_type": "code",
   "execution_count": 108,
   "metadata": {},
   "outputs": [
    {
     "data": {
      "text/plain": [
       "book_average_rating    2351\n",
       "num_ratings            2351\n",
       "num_reviews            2351\n",
       "score                  2351\n",
       "dtype: int64"
      ]
     },
     "execution_count": 108,
     "metadata": {},
     "output_type": "execute_result"
    }
   ],
   "source": [
    "books1[(books1.score < (832.00 - 1.5 * 2765.50)) | (books1.score > (3597.50 + 1.5 * 2765.50))].count()"
   ]
  },
  {
   "cell_type": "markdown",
   "metadata": {},
   "source": [
    "score has 2351 outliers."
   ]
  },
  {
   "cell_type": "markdown",
   "metadata": {},
   "source": [
    "### Problem 5 (10 points)"
   ]
  },
  {
   "cell_type": "markdown",
   "metadata": {},
   "source": [
    "Create a box plot for all 4 numerical variables."
   ]
  },
  {
   "cell_type": "code",
   "execution_count": 104,
   "metadata": {},
   "outputs": [
    {
     "data": {
      "image/png": "[encoded data removed]",
      "text/plain": [
       "<Figure size 432x288 with 1 Axes>"
      ]
     },
     "metadata": {
      "needs_background": "light"
     },
     "output_type": "display_data"
    }
   ],
   "source": [
    "boxplot = books1.boxplot(column=['book_average_rating', 'num_ratings', 'num_reviews', 'score'])"
   ]
  },
  {
   "cell_type": "code",
   "execution_count": null,
   "metadata": {},
   "outputs": [],
   "source": []
  }
 ],
 "metadata": {
  "kernelspec": {
   "display_name": "Python 3",
   "language": "python",
   "name": "python3"
  },
  "language_info": {
   "codemirror_mode": {
    "name": "ipython",
    "version": 3
   },
   "file_extension": ".py",
   "mimetype": "text/x-python",
   "name": "python",
   "nbconvert_exporter": "python",
   "pygments_lexer": "ipython3",
   "version": "3.8.8"
  }
 },
 "nbformat": 4,
 "nbformat_minor": 2
}
