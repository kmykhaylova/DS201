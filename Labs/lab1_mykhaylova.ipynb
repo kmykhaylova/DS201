{
 "cells": [
  {
   "cell_type": "markdown",
   "metadata": {},
   "source": [
    "## Instructions"
   ]
  },
  {
   "cell_type": "markdown",
   "metadata": {},
   "source": [
    "1) This Lab 1 assignment will open in Canvas at 6 am on Friday, 8/27, and is due at  11:59 pm on the same day.\n",
    "\n",
    "2) Lecture and Recitations have more details on how to do many things listed in this lab.\n",
    "\n",
    "3) This lab is mostly about setting up the files, folders, and directories."
   ]
  },
  {
   "cell_type": "markdown",
   "metadata": {},
   "source": [
    "#### Each problem is worth 10 points."
   ]
  },
  {
   "cell_type": "markdown",
   "metadata": {},
   "source": [
    "### Problem 1. \n",
    "Visit the website https://www.anaconda.com/products/individual and download Anaconda-Navigator on your laptop. Lectures or recitations have information on this process. Try opening the Anaconda-Navigator, and among the various environments, you see in it, launch Jupyter Notebook. "
   ]
  },
  {
   "cell_type": "markdown",
   "metadata": {},
   "source": [
    "### Answer \n",
    "Anaconda has been installed."
   ]
  },
  {
   "cell_type": "markdown",
   "metadata": {},
   "source": [
    "### Problem 2. \n",
    "Create a folder called DS201_Fall_2021 on your desktop. You can choose to create other subfolders as you go but for now, create a subfolder called labs. Download Lab 1 from Canvas, copy and paste the Lab1.ipynb file in your labs' subfolder. ipynb is an ipython notebook file ( aka Jupyter notebook files), and these can only be opened with a Jupyter notebook. Once Lab1 is open, change the name to lab1_your_lastname ( e.g. lab1_basnet)."
   ]
  },
  {
   "cell_type": "markdown",
   "metadata": {},
   "source": [
    "### Problme 2 Answer:\n",
    "I first saved the lab1 file into my desktop where it opened in sublime text. In Jupyter notebook, I created a new folder with the name Lab1 and then I imported the file into the folder; so therefore, it was a success."
   ]
  },
  {
   "cell_type": "markdown",
   "metadata": {},
   "source": [
    "### Problem 3. \n",
    "We can use Jupyter notebook as a microsoft word to write commentary and also to code. This cell I am writting on is Markdown cell. You can choose to change the cell to \"code\" by clicking the dropdown above."
   ]
  },
  {
   "cell_type": "markdown",
   "metadata": {},
   "source": [
    "### Problem 3 Answer"
   ]
  },
  {
   "cell_type": "code",
   "execution_count": 1,
   "metadata": {},
   "outputs": [
    {
     "name": "stdout",
     "output_type": "stream",
     "text": [
      "Hello World\n"
     ]
    }
   ],
   "source": [
    "# To answer problem 3, type \"hello world\"  in this cell and click run.\n",
    "print(\"Hello World\")"
   ]
  },
  {
   "cell_type": "markdown",
   "metadata": {},
   "source": [
    "### Problem 4. \n",
    "Click the \"file\" button on the top left above and then \"Download as\" and then chose HTML. Repeat this process again and chose Notebook (.ipynb)"
   ]
  },
  {
   "cell_type": "markdown",
   "metadata": {},
   "source": [
    "### Problem 4 Answer\n",
    "Check if two files are in your download folder and confirm here. Copy these two files to your lab1 subfolder."
   ]
  },
  {
   "cell_type": "markdown",
   "metadata": {},
   "source": [
    "### Problem 5. \n",
    "Go to this course in Canvas--> Assignments-->Labs--> Lab 1. Submitthe HTML file and ipynb file fro problem 4 in Canvas."
   ]
  },
  {
   "cell_type": "markdown",
   "metadata": {},
   "source": [
    "### Problem 5 Answer\n",
    "Lab 1 is done. Hurray!"
   ]
  }
 ],
 "metadata": {
  "kernelspec": {
   "display_name": "Python 3",
   "language": "python",
   "name": "python3"
  },
  "language_info": {
   "codemirror_mode": {
    "name": "ipython",
    "version": 3
   },
   "file_extension": ".py",
   "mimetype": "text/x-python",
   "name": "python",
   "nbconvert_exporter": "python",
   "pygments_lexer": "ipython3",
   "version": "3.8.8"
  }
 },
 "nbformat": 4,
 "nbformat_minor": 4
}
