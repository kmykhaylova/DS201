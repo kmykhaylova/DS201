{
 "cells": [
  {
   "cell_type": "markdown",
   "metadata": {},
   "source": [
    "## Instructions"
   ]
  },
  {
   "cell_type": "markdown",
   "metadata": {},
   "source": [
    "1) Start the first cell with your name, HW/Lab number, etc. For example, HW1_solutions_basnet.\n",
    "\n",
    "2) After you finish the HW, click File on the top left and click \"download as.\" You will see many options. Please save the file as .ipynb and .html file.\n",
    "\n",
    "3) To submit HW solutions, go to our course in Canvas --> Assignments --> HW 1 --> Submit Assignment --> Click \"Chose file\" --> choose HTML file you saved --> Click another file--> choose ipynb file--submit. Once you submit, download  and check to make sure that you have submitted the correct files.\n",
    "\n",
    "4) Your submission will be compared against other student's solutions and online databases to check plagiarism.\n",
    "\n",
    "5) You can use this ipynb file to start your solution.\n",
    "\n",
    "6) The answer to each question should consists of codes, outputs, and comments. Please do not print unnecessory data in your solution file.\n",
    "\n",
    "7) Each problem is worth 10 points."
   ]
  },
  {
   "cell_type": "code",
   "execution_count": 3,
   "metadata": {},
   "outputs": [],
   "source": [
    "#import packages\n",
    "import pandas as pd\n",
    "import numpy as np"
   ]
  },
  {
   "cell_type": "markdown",
   "metadata": {},
   "source": [
    "### Problem 1. \n",
    "Upload the world_countries CSV data. FInd out which variables have how many missing (null) values. Remove all the null values and rename the data."
   ]
  },
  {
   "cell_type": "markdown",
   "metadata": {},
   "source": [
    "### Problem 2. \n",
    "Starting with the renamed dataset from problem 1, change the names of the columns Area_in_sqrmiles, Pop. Density (per sq. mi.)\", Infant mortality (per 1000 births), GDP ($ per capita), and Literacy (\\%) respectively to Area, Density, Infant_Mortality, GDP, and Literacy."
   ]
  },
  {
   "cell_type": "markdown",
   "metadata": {},
   "source": [
    "### Problem 3. \n",
    "Use groupby and mean function to find the following: a) Regions with maximum and minimum population density. b) Find and display how many countries does each region has?"
   ]
  },
  {
   "cell_type": "markdown",
   "metadata": {},
   "source": [
    "### Problem 4. \n",
    "Use nlargest function to find out ten rows that have the largest Infant_Mortality rate. Do the same with nsmallest function and Literacy column. Comment on these data sets that you get."
   ]
  },
  {
   "cell_type": "markdown",
   "metadata": {},
   "source": [
    "### Problem 5. \n",
    "Which countries have a perfect literacy score and a population of 100 million or more? Comment on the answer you get."
   ]
  },
  {
   "cell_type": "code",
   "execution_count": 4,
   "metadata": {},
   "outputs": [],
   "source": [
    "# Let's load a few more packages mainly for plotting.\n",
    "import matplotlib as mpl\n",
    "import matplotlib.pyplot as mpt\n",
    "import seaborn as sbn\n",
    "# Plotting will be discussed in next week's lecture."
   ]
  },
  {
   "cell_type": "markdown",
   "metadata": {},
   "source": [
    "### Problem 6. \n",
    "Use plot function to scatter plot with Area in x-axis and population in the y-axis. You will see that one country while having a low area, has an exceptionally high population and one country despite having a very large area has a low population. Name these countries."
   ]
  },
  {
   "cell_type": "markdown",
   "metadata": {},
   "source": [
    "### Problem 7. \n",
    "Use plot function to scatter plot with Literacy in x-axis and GDP in the y-axis. Do you agree with the statement? \"Countries with higher literacy rates also have higher GDP.\""
   ]
  },
  {
   "cell_type": "markdown",
   "metadata": {},
   "source": [
    "### Problem 8. \n",
    "Create a new column called \"Difference,\" which is the difference between Birthrate and Deathrate and answer the question: Which country has the highest rate of population increase?"
   ]
  },
  {
   "cell_type": "markdown",
   "metadata": {},
   "source": [
    "### Problem 9. \n",
    "Continuing with the difference variable, are there countries with a declining population? Answer the same question for regions."
   ]
  },
  {
   "cell_type": "markdown",
   "metadata": {},
   "source": [
    "### Problem 10. \n",
    "(a) Create a bar chart for the Class column with Class labels in the x-axis and the number of countries in the y-axis. (b) Create a pie chart for the Class column. (c) Create a kernel density chart. Observe and comment on the graphs."
   ]
  }
 ],
 "metadata": {
  "kernelspec": {
   "display_name": "Python 3",
   "language": "python",
   "name": "python3"
  },
  "language_info": {
   "codemirror_mode": {
    "name": "ipython",
    "version": 3
   },
   "file_extension": ".py",
   "mimetype": "text/x-python",
   "name": "python",
   "nbconvert_exporter": "python",
   "pygments_lexer": "ipython3",
   "version": "3.8.3"
  }
 },
 "nbformat": 4,
 "nbformat_minor": 2
}
