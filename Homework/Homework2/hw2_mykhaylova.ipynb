{
 "cells": [
  {
   "cell_type": "markdown",
   "metadata": {},
   "source": [
    "### Instructions\n",
    "1) Start the first cell with your last name, HW/Lab number, etc. For example, HW2_solutions_basnet.\n",
    "\n",
    "2) After you finish the HW, click File on the top left and click \"download as.\" You will see many options. Please save the file as .ipynb and .html file.\n",
    "\n",
    "3) To submit HW solutions, go to our course in Canvas --> Assignments --> HW 2 --> Submit Assignment --> Click \"Chose file\" --> choose HTML file you saved --> Click another file--> choose ipynb file--submit. Once you submit, download  and check to make sure that you have submitted the correct files.\n",
    "##### ( Both HTML and ipynb files are required for your HW to be graded from now on)\n",
    "\n",
    "4) Your submission will be compared against other student's solutions and online databases to check plagiarism.\n",
    "\n",
    "5) You can use this ipynb file to start your solution\n",
    "\n",
    "6) I will make HWs due on Tuesdays so that you do not have 2 assignments due on Fridays. Each problem is worth 10 points."
   ]
  },
  {
   "cell_type": "code",
   "execution_count": 8,
   "metadata": {},
   "outputs": [],
   "source": [
    "import pandas as pd\n",
    "import numpy as np\n",
    "coluns2use = ['author_average_rating', 'author_gender','author_name','birthplace','book_average_rating',\n",
    "              'book_title', 'genre_1','num_ratings', 'num_reviews', 'pages','score']"
   ]
  },
  {
   "cell_type": "markdown",
   "metadata": {},
   "source": [
    "### Problem 1\n",
    "Upload the grbooks.csv data in your Jupyter Notebook.  Then, select only the variables listed in the list columns2use in the previous cell and create a new data frame. Find the data type of each of the variables. Do all the variables have correct labels as objects (Categorical) or numbers? Which variable has a wrong datatype?"
   ]
  },
  {
   "cell_type": "code",
   "execution_count": 9,
   "metadata": {},
   "outputs": [],
   "source": [
    "import pandas as pd\n",
    "import numpy as np"
   ]
  },
  {
   "cell_type": "code",
   "execution_count": 10,
   "metadata": {},
   "outputs": [],
   "source": [
    "books = pd.read_csv('grbooks.csv')"
   ]
  },
  {
   "cell_type": "code",
   "execution_count": 11,
   "metadata": {},
   "outputs": [],
   "source": [
    "books1 = pd.DataFrame({'author_average_rating':books['author_average_rating'], 'author_gender':books['author_gender'], \n",
    "                          'author_name':books['author_name'], 'birthplace':books['birthplace'], 'book_average_rating':books['book_average_rating'],\n",
    "                           'book_title':books['book_title'], 'genre_1':books['genre_1'], 'num_ratings':books['num_ratings'], \n",
    "                           'num_reviews':books['num_reviews'], 'pages':books['pages'], 'score':books['score']})"
   ]
  },
  {
   "cell_type": "code",
   "execution_count": 12,
   "metadata": {},
   "outputs": [
    {
     "data": {
      "text/plain": [
       "author_average_rating    float64\n",
       "author_gender             object\n",
       "author_name               object\n",
       "birthplace                object\n",
       "book_average_rating      float64\n",
       "book_title                object\n",
       "genre_1                   object\n",
       "num_ratings                int64\n",
       "num_reviews                int64\n",
       "pages                     object\n",
       "score                      int64\n",
       "dtype: object"
      ]
     },
     "execution_count": 12,
     "metadata": {},
     "output_type": "execute_result"
    }
   ],
   "source": [
    "books1.dtypes"
   ]
  },
  {
   "cell_type": "markdown",
   "metadata": {},
   "source": [
    "pages does not have the right data type. It is a numerical variable labeled as an object while it should be an int."
   ]
  },
  {
   "cell_type": "markdown",
   "metadata": {},
   "source": [
    "### Problem 2\n",
    "Continuing with the data you obtained in problem 1, find the $\\textbf{median}$ of all the numerical variables you saw in problem 1. Write a paragraph commenting on the median of these variables. "
   ]
  },
  {
   "cell_type": "code",
   "execution_count": 13,
   "metadata": {},
   "outputs": [
    {
     "data": {
      "text/plain": [
       "author_average_rating       3.97\n",
       "book_average_rating         3.96\n",
       "num_ratings              4403.00\n",
       "num_reviews               384.00\n",
       "score                    1727.00\n",
       "dtype: float64"
      ]
     },
     "execution_count": 13,
     "metadata": {},
     "output_type": "execute_result"
    }
   ],
   "source": [
    "books1.median()"
   ]
  },
  {
   "cell_type": "markdown",
   "metadata": {},
   "source": [
    "The median of these values is a value that is in the middle of the data. The middle value of author average rating is 3.97, the middle value of book average value is 3.96, the middle value of number of ratings is 4403.00, etc."
   ]
  },
  {
   "cell_type": "markdown",
   "metadata": {},
   "source": [
    "### Problem 3 \n",
    "Find the $\\textbf{mode}$ of all the numerical variables you saw in problem 1. Write a paragraph commenting on the mode of these variables. "
   ]
  },
  {
   "cell_type": "code",
   "execution_count": 14,
   "metadata": {},
   "outputs": [
    {
     "data": {
      "text/html": [
       "<div>\n",
       "<style scoped>\n",
       "    .dataframe tbody tr th:only-of-type {\n",
       "        vertical-align: middle;\n",
       "    }\n",
       "\n",
       "    .dataframe tbody tr th {\n",
       "        vertical-align: top;\n",
       "    }\n",
       "\n",
       "    .dataframe thead th {\n",
       "        text-align: right;\n",
       "    }\n",
       "</style>\n",
       "<table border=\"1\" class=\"dataframe\">\n",
       "  <thead>\n",
       "    <tr style=\"text-align: right;\">\n",
       "      <th></th>\n",
       "      <th>author_average_rating</th>\n",
       "      <th>book_average_rating</th>\n",
       "      <th>num_ratings</th>\n",
       "      <th>num_reviews</th>\n",
       "      <th>score</th>\n",
       "    </tr>\n",
       "  </thead>\n",
       "  <tbody>\n",
       "    <tr>\n",
       "      <th>0</th>\n",
       "      <td>3.94</td>\n",
       "      <td>3.96</td>\n",
       "      <td>44</td>\n",
       "      <td>17</td>\n",
       "      <td>200</td>\n",
       "    </tr>\n",
       "  </tbody>\n",
       "</table>\n",
       "</div>"
      ],
      "text/plain": [
       "   author_average_rating  book_average_rating  num_ratings  num_reviews  score\n",
       "0                   3.94                 3.96           44           17    200"
      ]
     },
     "execution_count": 14,
     "metadata": {},
     "output_type": "execute_result"
    }
   ],
   "source": [
    "books1.mode(numeric_only=True)"
   ]
  },
  {
   "cell_type": "markdown",
   "metadata": {},
   "source": [
    "The mode of these values is a value that appears most often in a variable. The number that appears the most often in author average rating is 3.94, in book average rating is 3.96, in number of ratings is 44, in number of reviews is 17, and in score is 200."
   ]
  },
  {
   "cell_type": "markdown",
   "metadata": {},
   "source": [
    "### Problem 4\n",
    "A distribution (here it is one of the numerical columns) in which the values of mean, median, and mode coincide (i.e., mean = median = mode) is known as a normal distribution (a perfect data set).It has a bell shapped curve when plotted and is also symmetric about the mean. Conversely, when mean, median, and mode values are not equal, the distribution is known as asymmetrical or skewed distribution. In moderately skewed or asymmetrical distribution, a very important relationship exists among these three measures of central tendencies. In such distributions, the distance between the mean and median is about one-third of the mean and mode distance. Karl Pearson, a renowned statistician, expressed this relationship as:\n",
    "$Mode - 3 \\times \\,\\,median - 2\\times \\,\\, mean =0$. \n",
    "\n",
    "![](mcube.png) \n",
    "\n",
    "\n",
    "Find Mode - 3 Median + 2 Mean for all numerical columns. Symmetric data is hard to come by. If this number is close to 0 for a column, the column data is close to being symmetric, and if it is far from 0 ( positive or negative), the column data is asymmetric. Which column is closest to being symmetric, and which one is the most asymmetric?"
   ]
  },
  {
   "cell_type": "code",
   "execution_count": 15,
   "metadata": {},
   "outputs": [
    {
     "data": {
      "text/html": [
       "<div>\n",
       "<style scoped>\n",
       "    .dataframe tbody tr th:only-of-type {\n",
       "        vertical-align: middle;\n",
       "    }\n",
       "\n",
       "    .dataframe tbody tr th {\n",
       "        vertical-align: top;\n",
       "    }\n",
       "\n",
       "    .dataframe thead th {\n",
       "        text-align: right;\n",
       "    }\n",
       "</style>\n",
       "<table border=\"1\" class=\"dataframe\">\n",
       "  <thead>\n",
       "    <tr style=\"text-align: right;\">\n",
       "      <th></th>\n",
       "      <th>author_average_rating</th>\n",
       "      <th>book_average_rating</th>\n",
       "      <th>num_ratings</th>\n",
       "      <th>num_reviews</th>\n",
       "      <th>score</th>\n",
       "    </tr>\n",
       "  </thead>\n",
       "  <tbody>\n",
       "    <tr>\n",
       "      <th>0</th>\n",
       "      <td>-15.890737</td>\n",
       "      <td>-15.822912</td>\n",
       "      <td>-106531.97558</td>\n",
       "      <td>-5784.509589</td>\n",
       "      <td>-12767.056966</td>\n",
       "    </tr>\n",
       "  </tbody>\n",
       "</table>\n",
       "</div>"
      ],
      "text/plain": [
       "   author_average_rating  book_average_rating   num_ratings  num_reviews  \\\n",
       "0             -15.890737           -15.822912 -106531.97558 -5784.509589   \n",
       "\n",
       "          score  \n",
       "0 -12767.056966  "
      ]
     },
     "execution_count": 15,
     "metadata": {},
     "output_type": "execute_result"
    }
   ],
   "source": [
    "(books1.mode(numeric_only=True))-(3*books1.median(numeric_only=True))-(2*books1.mean(numeric_only=True))"
   ]
  },
  {
   "cell_type": "markdown",
   "metadata": {},
   "source": [
    "The column that is most symmetric is book average rating column since the value is closest to 0. The column that is most asymmetric is num ratings since the value is the farthest from 0."
   ]
  },
  {
   "cell_type": "markdown",
   "metadata": {},
   "source": [
    "### Problem 5\n",
    "We can use sample function from pandas to randomly select only few  rows from our data frame. Sampling is very useful when the data is too big and not all of it can be handled in a computer.\n",
    "More about sample function is explained here.\n",
    "https://pandas.pydata.org/pandas-docs/stable/reference/api/pandas.DataFrame.sample.html\n"
   ]
  },
  {
   "cell_type": "markdown",
   "metadata": {},
   "source": [
    "Using the sample function, sample 1000 data points from the data you created in problem 1 and give it a new name. Now find the means  of this new sampled data and compare with the means of the data you sampled from. Which variable's mean  from this sampled data setis close to the mean of the original data? What does it imply when these two means are very close? "
   ]
  },
  {
   "cell_type": "code",
   "execution_count": 16,
   "metadata": {},
   "outputs": [
    {
     "data": {
      "text/html": [
       "<div>\n",
       "<style scoped>\n",
       "    .dataframe tbody tr th:only-of-type {\n",
       "        vertical-align: middle;\n",
       "    }\n",
       "\n",
       "    .dataframe tbody tr th {\n",
       "        vertical-align: top;\n",
       "    }\n",
       "\n",
       "    .dataframe thead th {\n",
       "        text-align: right;\n",
       "    }\n",
       "</style>\n",
       "<table border=\"1\" class=\"dataframe\">\n",
       "  <thead>\n",
       "    <tr style=\"text-align: right;\">\n",
       "      <th></th>\n",
       "      <th>author_average_rating</th>\n",
       "      <th>author_gender</th>\n",
       "      <th>author_name</th>\n",
       "      <th>birthplace</th>\n",
       "      <th>book_average_rating</th>\n",
       "      <th>book_title</th>\n",
       "      <th>genre_1</th>\n",
       "      <th>num_ratings</th>\n",
       "      <th>num_reviews</th>\n",
       "      <th>pages</th>\n",
       "      <th>score</th>\n",
       "    </tr>\n",
       "  </thead>\n",
       "  <tbody>\n",
       "    <tr>\n",
       "      <th>22536</th>\n",
       "      <td>4.12</td>\n",
       "      <td>male</td>\n",
       "      <td>Lisa   Thompson\\n</td>\n",
       "      <td>United Kingdom\\n</td>\n",
       "      <td>4.10</td>\n",
       "      <td>\\n      The Goldfish Boy\\n</td>\n",
       "      <td>Mystery</td>\n",
       "      <td>3472</td>\n",
       "      <td>631</td>\n",
       "      <td>320</td>\n",
       "      <td>635</td>\n",
       "    </tr>\n",
       "    <tr>\n",
       "      <th>19560</th>\n",
       "      <td>3.87</td>\n",
       "      <td>male</td>\n",
       "      <td>Matt Phelan\\n</td>\n",
       "      <td>\\n</td>\n",
       "      <td>3.72</td>\n",
       "      <td>\\n      The Storm in the Barn\\n</td>\n",
       "      <td>Sequential Art</td>\n",
       "      <td>3409</td>\n",
       "      <td>566</td>\n",
       "      <td>208</td>\n",
       "      <td>950</td>\n",
       "    </tr>\n",
       "    <tr>\n",
       "      <th>17977</th>\n",
       "      <td>3.97</td>\n",
       "      <td>female</td>\n",
       "      <td>M. Chandler\\n</td>\n",
       "      <td>\\n   United States\\n</td>\n",
       "      <td>3.85</td>\n",
       "      <td>\\n      Shadow of the Templar: The Morning Star\\n</td>\n",
       "      <td>Romance</td>\n",
       "      <td>1807</td>\n",
       "      <td>225</td>\n",
       "      <td>0</td>\n",
       "      <td>1079</td>\n",
       "    </tr>\n",
       "    <tr>\n",
       "      <th>17939</th>\n",
       "      <td>4.37</td>\n",
       "      <td>male</td>\n",
       "      <td>Tsugumi Ohba\\n</td>\n",
       "      <td>Japan\\n</td>\n",
       "      <td>4.18</td>\n",
       "      <td>Bakuman, Band 1: Traum und Realität</td>\n",
       "      <td>Sequential Art</td>\n",
       "      <td>18228</td>\n",
       "      <td>475</td>\n",
       "      <td>208</td>\n",
       "      <td>397</td>\n",
       "    </tr>\n",
       "    <tr>\n",
       "      <th>1134</th>\n",
       "      <td>4.03</td>\n",
       "      <td>female</td>\n",
       "      <td>Crystal Spears\\n</td>\n",
       "      <td>United States\\n</td>\n",
       "      <td>4.21</td>\n",
       "      <td>\\n      Withstanding Me\\n</td>\n",
       "      <td>Romance</td>\n",
       "      <td>8105</td>\n",
       "      <td>471</td>\n",
       "      <td>264</td>\n",
       "      <td>5466</td>\n",
       "    </tr>\n",
       "  </tbody>\n",
       "</table>\n",
       "</div>"
      ],
      "text/plain": [
       "       author_average_rating author_gender        author_name  \\\n",
       "22536                   4.12          male  Lisa   Thompson\\n   \n",
       "19560                   3.87          male      Matt Phelan\\n   \n",
       "17977                   3.97        female      M. Chandler\\n   \n",
       "17939                   4.37          male     Tsugumi Ohba\\n   \n",
       "1134                    4.03        female   Crystal Spears\\n   \n",
       "\n",
       "                   birthplace  book_average_rating  \\\n",
       "22536    United Kingdom\\n                     4.10   \n",
       "19560                    \\n                   3.72   \n",
       "17977  \\n   United States\\n                   3.85   \n",
       "17939               Japan\\n                   4.18   \n",
       "1134        United States\\n                   4.21   \n",
       "\n",
       "                                              book_title         genre_1  \\\n",
       "22536                         \\n      The Goldfish Boy\\n         Mystery   \n",
       "19560                    \\n      The Storm in the Barn\\n  Sequential Art   \n",
       "17977  \\n      Shadow of the Templar: The Morning Star\\n         Romance   \n",
       "17939                Bakuman, Band 1: Traum und Realität  Sequential Art   \n",
       "1134                           \\n      Withstanding Me\\n         Romance   \n",
       "\n",
       "       num_ratings  num_reviews pages  score  \n",
       "22536         3472          631   320    635  \n",
       "19560         3409          566   208    950  \n",
       "17977         1807          225     0   1079  \n",
       "17939        18228          475   208    397  \n",
       "1134          8105          471   264   5466  "
      ]
     },
     "execution_count": 16,
     "metadata": {},
     "output_type": "execute_result"
    }
   ],
   "source": [
    "books1.sample(1000, random_state= 16).head()"
   ]
  },
  {
   "cell_type": "code",
   "execution_count": 17,
   "metadata": {},
   "outputs": [
    {
     "data": {
      "text/html": [
       "<div>\n",
       "<style scoped>\n",
       "    .dataframe tbody tr th:only-of-type {\n",
       "        vertical-align: middle;\n",
       "    }\n",
       "\n",
       "    .dataframe tbody tr th {\n",
       "        vertical-align: top;\n",
       "    }\n",
       "\n",
       "    .dataframe thead th {\n",
       "        text-align: right;\n",
       "    }\n",
       "</style>\n",
       "<table border=\"1\" class=\"dataframe\">\n",
       "  <thead>\n",
       "    <tr style=\"text-align: right;\">\n",
       "      <th></th>\n",
       "      <th>author_average_rating</th>\n",
       "      <th>author_gender</th>\n",
       "      <th>author_name</th>\n",
       "      <th>birthplace</th>\n",
       "      <th>book_average_rating</th>\n",
       "      <th>book_title</th>\n",
       "      <th>genre_1</th>\n",
       "      <th>num_ratings</th>\n",
       "      <th>num_reviews</th>\n",
       "      <th>pages</th>\n",
       "      <th>score</th>\n",
       "    </tr>\n",
       "  </thead>\n",
       "  <tbody>\n",
       "    <tr>\n",
       "      <th>0</th>\n",
       "      <td>4.12</td>\n",
       "      <td>male</td>\n",
       "      <td>Lisa   Thompson\\n</td>\n",
       "      <td>United Kingdom\\n</td>\n",
       "      <td>4.10</td>\n",
       "      <td>\\n      The Goldfish Boy\\n</td>\n",
       "      <td>Mystery</td>\n",
       "      <td>3472</td>\n",
       "      <td>631</td>\n",
       "      <td>320</td>\n",
       "      <td>635</td>\n",
       "    </tr>\n",
       "    <tr>\n",
       "      <th>1</th>\n",
       "      <td>3.87</td>\n",
       "      <td>male</td>\n",
       "      <td>Matt Phelan\\n</td>\n",
       "      <td>\\n</td>\n",
       "      <td>3.72</td>\n",
       "      <td>\\n      The Storm in the Barn\\n</td>\n",
       "      <td>Sequential Art</td>\n",
       "      <td>3409</td>\n",
       "      <td>566</td>\n",
       "      <td>208</td>\n",
       "      <td>950</td>\n",
       "    </tr>\n",
       "    <tr>\n",
       "      <th>2</th>\n",
       "      <td>3.97</td>\n",
       "      <td>female</td>\n",
       "      <td>M. Chandler\\n</td>\n",
       "      <td>\\n   United States\\n</td>\n",
       "      <td>3.85</td>\n",
       "      <td>\\n      Shadow of the Templar: The Morning Star\\n</td>\n",
       "      <td>Romance</td>\n",
       "      <td>1807</td>\n",
       "      <td>225</td>\n",
       "      <td>0</td>\n",
       "      <td>1079</td>\n",
       "    </tr>\n",
       "    <tr>\n",
       "      <th>3</th>\n",
       "      <td>4.37</td>\n",
       "      <td>male</td>\n",
       "      <td>Tsugumi Ohba\\n</td>\n",
       "      <td>Japan\\n</td>\n",
       "      <td>4.18</td>\n",
       "      <td>Bakuman, Band 1: Traum und Realität</td>\n",
       "      <td>Sequential Art</td>\n",
       "      <td>18228</td>\n",
       "      <td>475</td>\n",
       "      <td>208</td>\n",
       "      <td>397</td>\n",
       "    </tr>\n",
       "    <tr>\n",
       "      <th>4</th>\n",
       "      <td>4.03</td>\n",
       "      <td>female</td>\n",
       "      <td>Crystal Spears\\n</td>\n",
       "      <td>United States\\n</td>\n",
       "      <td>4.21</td>\n",
       "      <td>\\n      Withstanding Me\\n</td>\n",
       "      <td>Romance</td>\n",
       "      <td>8105</td>\n",
       "      <td>471</td>\n",
       "      <td>264</td>\n",
       "      <td>5466</td>\n",
       "    </tr>\n",
       "  </tbody>\n",
       "</table>\n",
       "</div>"
      ],
      "text/plain": [
       "   author_average_rating author_gender        author_name  \\\n",
       "0                   4.12          male  Lisa   Thompson\\n   \n",
       "1                   3.87          male      Matt Phelan\\n   \n",
       "2                   3.97        female      M. Chandler\\n   \n",
       "3                   4.37          male     Tsugumi Ohba\\n   \n",
       "4                   4.03        female   Crystal Spears\\n   \n",
       "\n",
       "               birthplace  book_average_rating  \\\n",
       "0    United Kingdom\\n                     4.10   \n",
       "1                    \\n                   3.72   \n",
       "2  \\n   United States\\n                   3.85   \n",
       "3               Japan\\n                   4.18   \n",
       "4       United States\\n                   4.21   \n",
       "\n",
       "                                          book_title         genre_1  \\\n",
       "0                         \\n      The Goldfish Boy\\n         Mystery   \n",
       "1                    \\n      The Storm in the Barn\\n  Sequential Art   \n",
       "2  \\n      Shadow of the Templar: The Morning Star\\n         Romance   \n",
       "3                Bakuman, Band 1: Traum und Realität  Sequential Art   \n",
       "4                          \\n      Withstanding Me\\n         Romance   \n",
       "\n",
       "   num_ratings  num_reviews pages  score  \n",
       "0         3472          631   320    635  \n",
       "1         3409          566   208    950  \n",
       "2         1807          225     0   1079  \n",
       "3        18228          475   208    397  \n",
       "4         8105          471   264   5466  "
      ]
     },
     "execution_count": 17,
     "metadata": {},
     "output_type": "execute_result"
    }
   ],
   "source": [
    "sampled_books=books1.sample(1000, random_state= 16).reset_index(drop=True)\n",
    "sampled_books.head()"
   ]
  },
  {
   "cell_type": "code",
   "execution_count": 18,
   "metadata": {},
   "outputs": [
    {
     "data": {
      "text/plain": [
       "author_average_rating        3.960368\n",
       "book_average_rating          3.951456\n",
       "num_ratings              46683.487790\n",
       "num_reviews               2324.754794\n",
       "score                     3893.028483\n",
       "dtype: float64"
      ]
     },
     "execution_count": 18,
     "metadata": {},
     "output_type": "execute_result"
    }
   ],
   "source": [
    "mean1 = books1.mean()\n",
    "mean1"
   ]
  },
  {
   "cell_type": "code",
   "execution_count": 19,
   "metadata": {},
   "outputs": [
    {
     "data": {
      "text/plain": [
       "author_average_rating        3.96817\n",
       "book_average_rating          3.96087\n",
       "num_ratings              45022.12900\n",
       "num_reviews               2456.98200\n",
       "pages                            inf\n",
       "score                     3515.20800\n",
       "dtype: float64"
      ]
     },
     "execution_count": 19,
     "metadata": {},
     "output_type": "execute_result"
    }
   ],
   "source": [
    "mean2 = sampled_books.mean()\n",
    "mean2"
   ]
  },
  {
   "cell_type": "code",
   "execution_count": 20,
   "metadata": {},
   "outputs": [
    {
     "data": {
      "text/plain": [
       "author_average_rating      -0.007802\n",
       "book_average_rating        -0.009414\n",
       "num_ratings              1661.358790\n",
       "num_reviews              -132.227206\n",
       "pages                            NaN\n",
       "score                     377.820483\n",
       "dtype: float64"
      ]
     },
     "execution_count": 20,
     "metadata": {},
     "output_type": "execute_result"
    }
   ],
   "source": [
    "mean1 - mean2"
   ]
  },
  {
   "cell_type": "markdown",
   "metadata": {},
   "source": [
    "Variables' means that are close to the means of original data are author average rating and book average rating. This implies that the sample set accurately represents the originial data set."
   ]
  },
  {
   "cell_type": "markdown",
   "metadata": {},
   "source": [
    "### Problem 6\n",
    "Make a frequency table of the variable \"genre_1\". Your answer should look like a data frame with indices ( with no column name), and two other column names \"genre_1\" and \"frequency\". The following Panda functions will be useful: groubby, value_counts, reset_index() and to_frame(). https://stackoverflow.com/questions/39778686/pandas-reset-index-after-groupby-value-counts and https://pandas.pydata.org/pandas-docs/stable/reference/api/pandas.DataFrame.reset_index.html"
   ]
  },
  {
   "cell_type": "code",
   "execution_count": 96,
   "metadata": {},
   "outputs": [],
   "source": [
    "frequency = books1['genre_1'].value_counts()"
   ]
  },
  {
   "cell_type": "code",
   "execution_count": 97,
   "metadata": {},
   "outputs": [],
   "source": [
    "key = frequency.keys()"
   ]
  },
  {
   "cell_type": "code",
   "execution_count": 98,
   "metadata": {},
   "outputs": [],
   "source": [
    "values = frequency.values"
   ]
  },
  {
   "cell_type": "code",
   "execution_count": 101,
   "metadata": {},
   "outputs": [],
   "source": [
    "data = pd.DataFrame({'genre_1': key, 'frequency': values})"
   ]
  },
  {
   "cell_type": "code",
   "execution_count": 103,
   "metadata": {},
   "outputs": [
    {
     "data": {
      "text/html": [
       "<div>\n",
       "<style scoped>\n",
       "    .dataframe tbody tr th:only-of-type {\n",
       "        vertical-align: middle;\n",
       "    }\n",
       "\n",
       "    .dataframe tbody tr th {\n",
       "        vertical-align: top;\n",
       "    }\n",
       "\n",
       "    .dataframe thead th {\n",
       "        text-align: right;\n",
       "    }\n",
       "</style>\n",
       "<table border=\"1\" class=\"dataframe\">\n",
       "  <thead>\n",
       "    <tr style=\"text-align: right;\">\n",
       "      <th></th>\n",
       "      <th>genre_1</th>\n",
       "      <th>frequency</th>\n",
       "    </tr>\n",
       "  </thead>\n",
       "  <tbody>\n",
       "    <tr>\n",
       "      <th>0</th>\n",
       "      <td>Romance</td>\n",
       "      <td>3397</td>\n",
       "    </tr>\n",
       "    <tr>\n",
       "      <th>1</th>\n",
       "      <td>Fantasy</td>\n",
       "      <td>3397</td>\n",
       "    </tr>\n",
       "    <tr>\n",
       "      <th>2</th>\n",
       "      <td>Young Adult</td>\n",
       "      <td>2497</td>\n",
       "    </tr>\n",
       "    <tr>\n",
       "      <th>3</th>\n",
       "      <td>Fiction</td>\n",
       "      <td>2172</td>\n",
       "    </tr>\n",
       "    <tr>\n",
       "      <th>4</th>\n",
       "      <td>Historical</td>\n",
       "      <td>1399</td>\n",
       "    </tr>\n",
       "    <tr>\n",
       "      <th>...</th>\n",
       "      <td>...</td>\n",
       "      <td>...</td>\n",
       "    </tr>\n",
       "    <tr>\n",
       "      <th>119</th>\n",
       "      <td>How To</td>\n",
       "      <td>1</td>\n",
       "    </tr>\n",
       "    <tr>\n",
       "      <th>120</th>\n",
       "      <td>Dark Fantasy</td>\n",
       "      <td>1</td>\n",
       "    </tr>\n",
       "    <tr>\n",
       "      <th>121</th>\n",
       "      <td>Medical</td>\n",
       "      <td>1</td>\n",
       "    </tr>\n",
       "    <tr>\n",
       "      <th>122</th>\n",
       "      <td>Fan Fiction</td>\n",
       "      <td>1</td>\n",
       "    </tr>\n",
       "    <tr>\n",
       "      <th>123</th>\n",
       "      <td>Couture</td>\n",
       "      <td>1</td>\n",
       "    </tr>\n",
       "  </tbody>\n",
       "</table>\n",
       "<p>124 rows × 2 columns</p>\n",
       "</div>"
      ],
      "text/plain": [
       "          genre_1  frequency\n",
       "0         Romance       3397\n",
       "1         Fantasy       3397\n",
       "2     Young Adult       2497\n",
       "3         Fiction       2172\n",
       "4      Historical       1399\n",
       "..            ...        ...\n",
       "119        How To          1\n",
       "120  Dark Fantasy          1\n",
       "121       Medical          1\n",
       "122   Fan Fiction          1\n",
       "123       Couture          1\n",
       "\n",
       "[124 rows x 2 columns]"
      ]
     },
     "execution_count": 103,
     "metadata": {},
     "output_type": "execute_result"
    }
   ],
   "source": [
    "data.reset_index(drop=True)"
   ]
  },
  {
   "cell_type": "markdown",
   "metadata": {},
   "source": [
    "### Problem 7. \n",
    "Using the column  \"score\", to create a new column called new_score that will have a score out of 5. For this, apply the formula  $\\text{new_score} = \\dfrac{\\text{score}}{\\text{max(score)}}\\times 5$. Print the description of this new colum using describe function."
   ]
  },
  {
   "cell_type": "code",
   "execution_count": 51,
   "metadata": {},
   "outputs": [],
   "source": [
    "newscore = books1['score'] / max(books1['score']) * 5"
   ]
  },
  {
   "cell_type": "code",
   "execution_count": 52,
   "metadata": {},
   "outputs": [
    {
     "data": {
      "text/plain": [
       "0        0.026995\n",
       "1        0.025590\n",
       "2        0.038319\n",
       "3        0.012812\n",
       "4        0.017592\n",
       "           ...   \n",
       "22886    0.010154\n",
       "22887    0.011040\n",
       "22888    0.014032\n",
       "22889    0.015854\n",
       "22890    0.027162\n",
       "Name: score, Length: 22891, dtype: float64"
      ]
     },
     "execution_count": 52,
     "metadata": {},
     "output_type": "execute_result"
    }
   ],
   "source": [
    "newscore"
   ]
  },
  {
   "cell_type": "code",
   "execution_count": 59,
   "metadata": {},
   "outputs": [],
   "source": [
    "books1['new_score'] = newscore"
   ]
  },
  {
   "cell_type": "markdown",
   "metadata": {},
   "source": [
    "### Problem 8.\n",
    "We have now 3 columns that represent ratings out of 5, namely author_average_rating, book_average_rating, and a new_score we just created in problem 7. Let's create a column called super_score which takes into consideration of all the 3 columns with rating scores out of 5. Give 24%, 34% and 42% weights for the columns author_average_rating, book_average_rating, and a new_score respectively to create the values for super_score column that is also out of 5. Now use the describe function to show the details of this new column."
   ]
  },
  {
   "cell_type": "code",
   "execution_count": 61,
   "metadata": {},
   "outputs": [],
   "source": [
    "superscore = .24*books1['author_average_rating'] + .34*books1['book_average_rating'] + .42*books1['new_score']"
   ]
  },
  {
   "cell_type": "code",
   "execution_count": 62,
   "metadata": {},
   "outputs": [
    {
     "data": {
      "text/plain": [
       "0        2.340538\n",
       "1        2.410948\n",
       "2        2.332694\n",
       "3        2.344181\n",
       "4        2.354789\n",
       "           ...   \n",
       "22886    2.248665\n",
       "22887    2.584637\n",
       "22888    2.234093\n",
       "22889    2.337259\n",
       "22890    2.542008\n",
       "Length: 22891, dtype: float64"
      ]
     },
     "execution_count": 62,
     "metadata": {},
     "output_type": "execute_result"
    }
   ],
   "source": [
    "superscore"
   ]
  },
  {
   "cell_type": "code",
   "execution_count": 63,
   "metadata": {},
   "outputs": [],
   "source": [
    "books1['super_score'] = superscore"
   ]
  },
  {
   "cell_type": "code",
   "execution_count": 66,
   "metadata": {},
   "outputs": [
    {
     "data": {
      "text/html": [
       "<div>\n",
       "<style scoped>\n",
       "    .dataframe tbody tr th:only-of-type {\n",
       "        vertical-align: middle;\n",
       "    }\n",
       "\n",
       "    .dataframe tbody tr th {\n",
       "        vertical-align: top;\n",
       "    }\n",
       "\n",
       "    .dataframe thead th {\n",
       "        text-align: right;\n",
       "    }\n",
       "</style>\n",
       "<table border=\"1\" class=\"dataframe\">\n",
       "  <thead>\n",
       "    <tr style=\"text-align: right;\">\n",
       "      <th></th>\n",
       "      <th>author_average_rating</th>\n",
       "      <th>book_average_rating</th>\n",
       "      <th>num_ratings</th>\n",
       "      <th>num_reviews</th>\n",
       "      <th>score</th>\n",
       "      <th>Frequency</th>\n",
       "      <th>new_score</th>\n",
       "      <th>super_score</th>\n",
       "    </tr>\n",
       "  </thead>\n",
       "  <tbody>\n",
       "    <tr>\n",
       "      <th>count</th>\n",
       "      <td>22891.000000</td>\n",
       "      <td>22891.000000</td>\n",
       "      <td>2.289100e+04</td>\n",
       "      <td>22891.000000</td>\n",
       "      <td>22891.000000</td>\n",
       "      <td>0.0</td>\n",
       "      <td>22891.000000</td>\n",
       "      <td>22891.000000</td>\n",
       "    </tr>\n",
       "    <tr>\n",
       "      <th>mean</th>\n",
       "      <td>3.960368</td>\n",
       "      <td>3.951456</td>\n",
       "      <td>4.668349e+04</td>\n",
       "      <td>2324.754794</td>\n",
       "      <td>3893.028483</td>\n",
       "      <td>NaN</td>\n",
       "      <td>0.032536</td>\n",
       "      <td>2.307648</td>\n",
       "    </tr>\n",
       "    <tr>\n",
       "      <th>std</th>\n",
       "      <td>0.240421</td>\n",
       "      <td>0.291317</td>\n",
       "      <td>1.800698e+05</td>\n",
       "      <td>6837.503574</td>\n",
       "      <td>11022.018268</td>\n",
       "      <td>NaN</td>\n",
       "      <td>0.092116</td>\n",
       "      <td>0.156127</td>\n",
       "    </tr>\n",
       "    <tr>\n",
       "      <th>min</th>\n",
       "      <td>1.820000</td>\n",
       "      <td>0.000000</td>\n",
       "      <td>0.000000e+00</td>\n",
       "      <td>0.000000</td>\n",
       "      <td>55.000000</td>\n",
       "      <td>NaN</td>\n",
       "      <td>0.000460</td>\n",
       "      <td>0.871881</td>\n",
       "    </tr>\n",
       "    <tr>\n",
       "      <th>25%</th>\n",
       "      <td>3.810000</td>\n",
       "      <td>3.770000</td>\n",
       "      <td>8.200000e+02</td>\n",
       "      <td>106.000000</td>\n",
       "      <td>832.000000</td>\n",
       "      <td>NaN</td>\n",
       "      <td>0.006953</td>\n",
       "      <td>2.211681</td>\n",
       "    </tr>\n",
       "    <tr>\n",
       "      <th>50%</th>\n",
       "      <td>3.970000</td>\n",
       "      <td>3.960000</td>\n",
       "      <td>4.403000e+03</td>\n",
       "      <td>384.000000</td>\n",
       "      <td>1727.000000</td>\n",
       "      <td>NaN</td>\n",
       "      <td>0.014433</td>\n",
       "      <td>2.310253</td>\n",
       "    </tr>\n",
       "    <tr>\n",
       "      <th>75%</th>\n",
       "      <td>4.120000</td>\n",
       "      <td>4.140000</td>\n",
       "      <td>2.014300e+04</td>\n",
       "      <td>1504.000000</td>\n",
       "      <td>3597.500000</td>\n",
       "      <td>NaN</td>\n",
       "      <td>0.030066</td>\n",
       "      <td>2.406540</td>\n",
       "    </tr>\n",
       "    <tr>\n",
       "      <th>max</th>\n",
       "      <td>5.000000</td>\n",
       "      <td>5.000000</td>\n",
       "      <td>3.820921e+06</td>\n",
       "      <td>147696.000000</td>\n",
       "      <td>598270.000000</td>\n",
       "      <td>NaN</td>\n",
       "      <td>5.000000</td>\n",
       "      <td>4.625000</td>\n",
       "    </tr>\n",
       "  </tbody>\n",
       "</table>\n",
       "</div>"
      ],
      "text/plain": [
       "       author_average_rating  book_average_rating   num_ratings  \\\n",
       "count           22891.000000         22891.000000  2.289100e+04   \n",
       "mean                3.960368             3.951456  4.668349e+04   \n",
       "std                 0.240421             0.291317  1.800698e+05   \n",
       "min                 1.820000             0.000000  0.000000e+00   \n",
       "25%                 3.810000             3.770000  8.200000e+02   \n",
       "50%                 3.970000             3.960000  4.403000e+03   \n",
       "75%                 4.120000             4.140000  2.014300e+04   \n",
       "max                 5.000000             5.000000  3.820921e+06   \n",
       "\n",
       "         num_reviews          score  Frequency     new_score   super_score  \n",
       "count   22891.000000   22891.000000        0.0  22891.000000  22891.000000  \n",
       "mean     2324.754794    3893.028483        NaN      0.032536      2.307648  \n",
       "std      6837.503574   11022.018268        NaN      0.092116      0.156127  \n",
       "min         0.000000      55.000000        NaN      0.000460      0.871881  \n",
       "25%       106.000000     832.000000        NaN      0.006953      2.211681  \n",
       "50%       384.000000    1727.000000        NaN      0.014433      2.310253  \n",
       "75%      1504.000000    3597.500000        NaN      0.030066      2.406540  \n",
       "max    147696.000000  598270.000000        NaN      5.000000      4.625000  "
      ]
     },
     "execution_count": 66,
     "metadata": {},
     "output_type": "execute_result"
    }
   ],
   "source": [
    "books1.describe()"
   ]
  },
  {
   "cell_type": "markdown",
   "metadata": {},
   "source": [
    "### Problem 9\n",
    "Use super_score column to find out how many unique authors have a super_score of 3.9 or more. Let's call these authors, super_authors. Create a dataframe called super_authors that has the following columns: ['author_name','author_gender','birthplace','book_title'] and show the head of the data."
   ]
  },
  {
   "cell_type": "code",
   "execution_count": 69,
   "metadata": {},
   "outputs": [
    {
     "data": {
      "text/html": [
       "<div>\n",
       "<style scoped>\n",
       "    .dataframe tbody tr th:only-of-type {\n",
       "        vertical-align: middle;\n",
       "    }\n",
       "\n",
       "    .dataframe tbody tr th {\n",
       "        vertical-align: top;\n",
       "    }\n",
       "\n",
       "    .dataframe thead th {\n",
       "        text-align: right;\n",
       "    }\n",
       "</style>\n",
       "<table border=\"1\" class=\"dataframe\">\n",
       "  <thead>\n",
       "    <tr style=\"text-align: right;\">\n",
       "      <th></th>\n",
       "      <th>author_average_rating</th>\n",
       "      <th>author_gender</th>\n",
       "      <th>author_name</th>\n",
       "      <th>birthplace</th>\n",
       "      <th>book_average_rating</th>\n",
       "      <th>book_title</th>\n",
       "      <th>genre_1</th>\n",
       "      <th>num_ratings</th>\n",
       "      <th>num_reviews</th>\n",
       "      <th>pages</th>\n",
       "      <th>score</th>\n",
       "      <th>Frequency</th>\n",
       "      <th>new_score</th>\n",
       "      <th>super_score</th>\n",
       "    </tr>\n",
       "  </thead>\n",
       "  <tbody>\n",
       "    <tr>\n",
       "      <th>919</th>\n",
       "      <td>4.09</td>\n",
       "      <td>male</td>\n",
       "      <td>Oscar Wilde\\n</td>\n",
       "      <td>Ireland\\n</td>\n",
       "      <td>4.07</td>\n",
       "      <td>\\n      The Picture of Dorian Gray\\n</td>\n",
       "      <td>Classics</td>\n",
       "      <td>793936</td>\n",
       "      <td>23624</td>\n",
       "      <td>367</td>\n",
       "      <td>442035</td>\n",
       "      <td>NaN</td>\n",
       "      <td>3.694277</td>\n",
       "      <td>3.916996</td>\n",
       "    </tr>\n",
       "    <tr>\n",
       "      <th>920</th>\n",
       "      <td>4.06</td>\n",
       "      <td>male</td>\n",
       "      <td>Lewis Carroll\\n</td>\n",
       "      <td>United Kingdom\\n</td>\n",
       "      <td>4.07</td>\n",
       "      <td>\\n      Alice's Adventures in Wonderland &amp; Thr...</td>\n",
       "      <td>Classics</td>\n",
       "      <td>414440</td>\n",
       "      <td>9294</td>\n",
       "      <td>239</td>\n",
       "      <td>489613</td>\n",
       "      <td>NaN</td>\n",
       "      <td>4.091907</td>\n",
       "      <td>4.076801</td>\n",
       "    </tr>\n",
       "    <tr>\n",
       "      <th>921</th>\n",
       "      <td>4.33</td>\n",
       "      <td>male</td>\n",
       "      <td>Shel Silverstein\\n</td>\n",
       "      <td>United States\\n</td>\n",
       "      <td>4.37</td>\n",
       "      <td>\\n      The Giving Tree\\n</td>\n",
       "      <td>Childrens</td>\n",
       "      <td>801232</td>\n",
       "      <td>15919</td>\n",
       "      <td>64</td>\n",
       "      <td>598270</td>\n",
       "      <td>NaN</td>\n",
       "      <td>5.000000</td>\n",
       "      <td>4.625000</td>\n",
       "    </tr>\n",
       "  </tbody>\n",
       "</table>\n",
       "</div>"
      ],
      "text/plain": [
       "     author_average_rating author_gender         author_name  \\\n",
       "919                   4.09          male       Oscar Wilde\\n   \n",
       "920                   4.06          male     Lewis Carroll\\n   \n",
       "921                   4.33          male  Shel Silverstein\\n   \n",
       "\n",
       "                birthplace  book_average_rating  \\\n",
       "919          Ireland\\n                     4.07   \n",
       "920   United Kingdom\\n                     4.07   \n",
       "921    United States\\n                     4.37   \n",
       "\n",
       "                                            book_title    genre_1  \\\n",
       "919               \\n      The Picture of Dorian Gray\\n   Classics   \n",
       "920  \\n      Alice's Adventures in Wonderland & Thr...   Classics   \n",
       "921                          \\n      The Giving Tree\\n  Childrens   \n",
       "\n",
       "     num_ratings  num_reviews pages   score  Frequency  new_score  super_score  \n",
       "919       793936        23624   367  442035        NaN   3.694277     3.916996  \n",
       "920       414440         9294   239  489613        NaN   4.091907     4.076801  \n",
       "921       801232        15919    64  598270        NaN   5.000000     4.625000  "
      ]
     },
     "execution_count": 69,
     "metadata": {},
     "output_type": "execute_result"
    }
   ],
   "source": [
    "books1.loc[(books1[\"super_score\"] >= 3.9)]"
   ]
  },
  {
   "cell_type": "code",
   "execution_count": 79,
   "metadata": {},
   "outputs": [],
   "source": [
    "authors = pd.DataFrame({'author_name':books1['author_name'], 'author_gender':books1['author_gender'], \n",
    "                              'birthplace':books1['birthplace'], 'book_title':books1['book_title']})"
   ]
  },
  {
   "cell_type": "code",
   "execution_count": 80,
   "metadata": {},
   "outputs": [],
   "source": [
    "super_authors = authors.loc[(books1[\"super_score\"] >= 3.9)]"
   ]
  },
  {
   "cell_type": "code",
   "execution_count": 81,
   "metadata": {},
   "outputs": [
    {
     "data": {
      "text/html": [
       "<div>\n",
       "<style scoped>\n",
       "    .dataframe tbody tr th:only-of-type {\n",
       "        vertical-align: middle;\n",
       "    }\n",
       "\n",
       "    .dataframe tbody tr th {\n",
       "        vertical-align: top;\n",
       "    }\n",
       "\n",
       "    .dataframe thead th {\n",
       "        text-align: right;\n",
       "    }\n",
       "</style>\n",
       "<table border=\"1\" class=\"dataframe\">\n",
       "  <thead>\n",
       "    <tr style=\"text-align: right;\">\n",
       "      <th></th>\n",
       "      <th>author_name</th>\n",
       "      <th>author_gender</th>\n",
       "      <th>birthplace</th>\n",
       "      <th>book_title</th>\n",
       "    </tr>\n",
       "  </thead>\n",
       "  <tbody>\n",
       "    <tr>\n",
       "      <th>919</th>\n",
       "      <td>Oscar Wilde\\n</td>\n",
       "      <td>male</td>\n",
       "      <td>Ireland\\n</td>\n",
       "      <td>\\n      The Picture of Dorian Gray\\n</td>\n",
       "    </tr>\n",
       "    <tr>\n",
       "      <th>920</th>\n",
       "      <td>Lewis Carroll\\n</td>\n",
       "      <td>male</td>\n",
       "      <td>United Kingdom\\n</td>\n",
       "      <td>\\n      Alice's Adventures in Wonderland &amp; Thr...</td>\n",
       "    </tr>\n",
       "    <tr>\n",
       "      <th>921</th>\n",
       "      <td>Shel Silverstein\\n</td>\n",
       "      <td>male</td>\n",
       "      <td>United States\\n</td>\n",
       "      <td>\\n      The Giving Tree\\n</td>\n",
       "    </tr>\n",
       "  </tbody>\n",
       "</table>\n",
       "</div>"
      ],
      "text/plain": [
       "            author_name author_gender             birthplace  \\\n",
       "919       Oscar Wilde\\n          male          Ireland\\n       \n",
       "920     Lewis Carroll\\n          male   United Kingdom\\n       \n",
       "921  Shel Silverstein\\n          male    United States\\n       \n",
       "\n",
       "                                            book_title  \n",
       "919               \\n      The Picture of Dorian Gray\\n  \n",
       "920  \\n      Alice's Adventures in Wonderland & Thr...  \n",
       "921                          \\n      The Giving Tree\\n  "
      ]
     },
     "execution_count": 81,
     "metadata": {},
     "output_type": "execute_result"
    }
   ],
   "source": [
    "super_authors.head()"
   ]
  },
  {
   "cell_type": "markdown",
   "metadata": {},
   "source": [
    "### Problem 10\n",
    "Save the dataframe super_authors you created in problem 9 to your working folder (where you have this HW saved) as a csv file and read it back to Jupyter Notebook and print the head of the data."
   ]
  },
  {
   "cell_type": "code",
   "execution_count": 82,
   "metadata": {},
   "outputs": [],
   "source": [
    "super_authors.to_csv('super_authors.csv')"
   ]
  },
  {
   "cell_type": "code",
   "execution_count": 83,
   "metadata": {},
   "outputs": [],
   "source": [
    "superauthors = pd.read_csv('super_authors.csv')"
   ]
  },
  {
   "cell_type": "code",
   "execution_count": 84,
   "metadata": {},
   "outputs": [
    {
     "data": {
      "text/html": [
       "<div>\n",
       "<style scoped>\n",
       "    .dataframe tbody tr th:only-of-type {\n",
       "        vertical-align: middle;\n",
       "    }\n",
       "\n",
       "    .dataframe tbody tr th {\n",
       "        vertical-align: top;\n",
       "    }\n",
       "\n",
       "    .dataframe thead th {\n",
       "        text-align: right;\n",
       "    }\n",
       "</style>\n",
       "<table border=\"1\" class=\"dataframe\">\n",
       "  <thead>\n",
       "    <tr style=\"text-align: right;\">\n",
       "      <th></th>\n",
       "      <th>Unnamed: 0</th>\n",
       "      <th>author_name</th>\n",
       "      <th>author_gender</th>\n",
       "      <th>birthplace</th>\n",
       "      <th>book_title</th>\n",
       "    </tr>\n",
       "  </thead>\n",
       "  <tbody>\n",
       "    <tr>\n",
       "      <th>0</th>\n",
       "      <td>919</td>\n",
       "      <td>Oscar Wilde\\n</td>\n",
       "      <td>male</td>\n",
       "      <td>Ireland\\n</td>\n",
       "      <td>\\n      The Picture of Dorian Gray\\n</td>\n",
       "    </tr>\n",
       "    <tr>\n",
       "      <th>1</th>\n",
       "      <td>920</td>\n",
       "      <td>Lewis Carroll\\n</td>\n",
       "      <td>male</td>\n",
       "      <td>United Kingdom\\n</td>\n",
       "      <td>\\n      Alice's Adventures in Wonderland &amp; Thr...</td>\n",
       "    </tr>\n",
       "    <tr>\n",
       "      <th>2</th>\n",
       "      <td>921</td>\n",
       "      <td>Shel Silverstein\\n</td>\n",
       "      <td>male</td>\n",
       "      <td>United States\\n</td>\n",
       "      <td>\\n      The Giving Tree\\n</td>\n",
       "    </tr>\n",
       "  </tbody>\n",
       "</table>\n",
       "</div>"
      ],
      "text/plain": [
       "   Unnamed: 0         author_name author_gender             birthplace  \\\n",
       "0         919       Oscar Wilde\\n          male          Ireland\\n       \n",
       "1         920     Lewis Carroll\\n          male   United Kingdom\\n       \n",
       "2         921  Shel Silverstein\\n          male    United States\\n       \n",
       "\n",
       "                                          book_title  \n",
       "0               \\n      The Picture of Dorian Gray\\n  \n",
       "1  \\n      Alice's Adventures in Wonderland & Thr...  \n",
       "2                          \\n      The Giving Tree\\n  "
      ]
     },
     "execution_count": 84,
     "metadata": {},
     "output_type": "execute_result"
    }
   ],
   "source": [
    "superauthors.head()"
   ]
  },
  {
   "cell_type": "markdown",
   "metadata": {},
   "source": [
    "## The following 2 problems are extra credit problems and are optional. You won't get any help on these problems."
   ]
  },
  {
   "cell_type": "markdown",
   "metadata": {},
   "source": [
    "### Bonus Problem 1 (Bonus 5 points)\n",
    "In super_author data set, there are a few columns that have entries with $\\text{\\n}$ notation. Find these columns and remove $\\text{\\n}$ from all the column entries using regular expressions.  Read more about handling strings and regular expressions here. https://pandas.pydata.org/pandas-docs/stable/user_guide/text.html, https://www.geeksforgeeks.org/replace-values-in-pandas-dataframe-using-regex/\n",
    ", and here https://docs.python.org/2/library/re.html."
   ]
  },
  {
   "cell_type": "code",
   "execution_count": 86,
   "metadata": {},
   "outputs": [],
   "source": [
    "authors_updated = super_authors.replace(to_replace ='\\n', value = '', regex = True)"
   ]
  },
  {
   "cell_type": "code",
   "execution_count": 87,
   "metadata": {},
   "outputs": [
    {
     "data": {
      "text/html": [
       "<div>\n",
       "<style scoped>\n",
       "    .dataframe tbody tr th:only-of-type {\n",
       "        vertical-align: middle;\n",
       "    }\n",
       "\n",
       "    .dataframe tbody tr th {\n",
       "        vertical-align: top;\n",
       "    }\n",
       "\n",
       "    .dataframe thead th {\n",
       "        text-align: right;\n",
       "    }\n",
       "</style>\n",
       "<table border=\"1\" class=\"dataframe\">\n",
       "  <thead>\n",
       "    <tr style=\"text-align: right;\">\n",
       "      <th></th>\n",
       "      <th>author_name</th>\n",
       "      <th>author_gender</th>\n",
       "      <th>birthplace</th>\n",
       "      <th>book_title</th>\n",
       "    </tr>\n",
       "  </thead>\n",
       "  <tbody>\n",
       "    <tr>\n",
       "      <th>919</th>\n",
       "      <td>Oscar Wilde</td>\n",
       "      <td>male</td>\n",
       "      <td>Ireland</td>\n",
       "      <td>The Picture of Dorian Gray</td>\n",
       "    </tr>\n",
       "    <tr>\n",
       "      <th>920</th>\n",
       "      <td>Lewis Carroll</td>\n",
       "      <td>male</td>\n",
       "      <td>United Kingdom</td>\n",
       "      <td>Alice's Adventures in Wonderland &amp; Throu...</td>\n",
       "    </tr>\n",
       "    <tr>\n",
       "      <th>921</th>\n",
       "      <td>Shel Silverstein</td>\n",
       "      <td>male</td>\n",
       "      <td>United States</td>\n",
       "      <td>The Giving Tree</td>\n",
       "    </tr>\n",
       "  </tbody>\n",
       "</table>\n",
       "</div>"
      ],
      "text/plain": [
       "          author_name author_gender           birthplace  \\\n",
       "919       Oscar Wilde          male          Ireland       \n",
       "920     Lewis Carroll          male   United Kingdom       \n",
       "921  Shel Silverstein          male    United States       \n",
       "\n",
       "                                            book_title  \n",
       "919                         The Picture of Dorian Gray  \n",
       "920        Alice's Adventures in Wonderland & Throu...  \n",
       "921                                    The Giving Tree  "
      ]
     },
     "execution_count": 87,
     "metadata": {},
     "output_type": "execute_result"
    }
   ],
   "source": [
    "authors_updated.head()"
   ]
  },
  {
   "cell_type": "markdown",
   "metadata": {},
   "source": [
    "### Bonus Problem 2 (Bonus 5 points)\n",
    "You may have noticed that the column named  \"pages\" from the data set in problem 1 seem to have numerical looking values but it is not showing up in our data summary. This is because this columns appears to be a string in our data set. Data values in this columns are just  the total number of pages in each book and these should be numbers not strings. Change this column from string to numeric and find mean, median and mode for this column. If the error comes in the process of converting to numerical, find out what the error is and fix it."
   ]
  },
  {
   "cell_type": "code",
   "execution_count": 90,
   "metadata": {},
   "outputs": [],
   "source": [
    "books1[\"pages\"] = pd.to_numeric(books1[\"pages\"], errors='coerce')"
   ]
  },
  {
   "cell_type": "code",
   "execution_count": 91,
   "metadata": {},
   "outputs": [
    {
     "data": {
      "text/plain": [
       "author_average_rating    float64\n",
       "author_gender             object\n",
       "author_name               object\n",
       "birthplace                object\n",
       "book_average_rating      float64\n",
       "book_title                object\n",
       "genre_1                   object\n",
       "num_ratings                int64\n",
       "num_reviews                int64\n",
       "pages                    float64\n",
       "score                      int64\n",
       "Frequency                float64\n",
       "new_score                float64\n",
       "super_score              float64\n",
       "dtype: object"
      ]
     },
     "execution_count": 91,
     "metadata": {},
     "output_type": "execute_result"
    }
   ],
   "source": [
    "books1.dtypes"
   ]
  },
  {
   "cell_type": "code",
   "execution_count": 92,
   "metadata": {},
   "outputs": [
    {
     "data": {
      "text/plain": [
       "332.99602411744144"
      ]
     },
     "execution_count": 92,
     "metadata": {},
     "output_type": "execute_result"
    }
   ],
   "source": [
    "books1['pages'].mean()"
   ]
  },
  {
   "cell_type": "code",
   "execution_count": 93,
   "metadata": {},
   "outputs": [
    {
     "data": {
      "text/plain": [
       "315.0"
      ]
     },
     "execution_count": 93,
     "metadata": {},
     "output_type": "execute_result"
    }
   ],
   "source": [
    "books1['pages'].median()"
   ]
  },
  {
   "cell_type": "code",
   "execution_count": 94,
   "metadata": {},
   "outputs": [
    {
     "data": {
      "text/plain": [
       "0    320.0\n",
       "dtype: float64"
      ]
     },
     "execution_count": 94,
     "metadata": {},
     "output_type": "execute_result"
    }
   ],
   "source": [
    "books1['pages'].mode()"
   ]
  },
  {
   "cell_type": "code",
   "execution_count": null,
   "metadata": {},
   "outputs": [],
   "source": []
  }
 ],
 "metadata": {
  "kernelspec": {
   "display_name": "Python 3",
   "language": "python",
   "name": "python3"
  },
  "language_info": {
   "codemirror_mode": {
    "name": "ipython",
    "version": 3
   },
   "file_extension": ".py",
   "mimetype": "text/x-python",
   "name": "python",
   "nbconvert_exporter": "python",
   "pygments_lexer": "ipython3",
   "version": "3.8.8"
  }
 },
 "nbformat": 4,
 "nbformat_minor": 2
}
