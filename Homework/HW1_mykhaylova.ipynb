{
 "cells": [
  {
   "cell_type": "markdown",
   "metadata": {},
   "source": [
    "## Instructions"
   ]
  },
  {
   "cell_type": "markdown",
   "metadata": {},
   "source": [
    "1) Start the first cell with your name, HW/Lab number, etc. For example, HW1_solutions_basnet.\n",
    "\n",
    "2) After you finish the HW, click File on the top left and click \"download as.\" You will see many options. Please save the file as .ipynb and .html file.\n",
    "\n",
    "3) To submit HW solutions, go to our course in Canvas --> Assignments --> HW 1 --> Submit Assignment --> Click \"Chose file\" --> choose HTML file you saved --> Click another file--> choose ipynb file--submit. Once you submit, download  and check to make sure that you have submitted the correct files.\n",
    "\n",
    "4) Your submission will be compared against other student's solutions and online databases to check plagiarism.\n",
    "\n",
    "5) You can use this ipynb file to start your solution.\n",
    "\n",
    "6) The answer to each question should consists of codes, outputs, and comments. Please do not print unnecessory data in your solution file.\n",
    "\n",
    "7) Each problem is worth 10 points."
   ]
  },
  {
   "cell_type": "markdown",
   "metadata": {},
   "source": [
    "HW1_mykhaylova"
   ]
  },
  {
   "cell_type": "code",
   "execution_count": 3,
   "metadata": {},
   "outputs": [],
   "source": [
    "#import packages\n",
    "import pandas as pd\n",
    "import numpy as np"
   ]
  },
  {
   "cell_type": "markdown",
   "metadata": {},
   "source": [
    "### Problem 1. \n",
    "Upload the world_countries CSV data. FInd out which variables have how many missing (null) values. Remove all the null values and rename the data."
   ]
  },
  {
   "cell_type": "code",
   "execution_count": 3,
   "metadata": {},
   "outputs": [],
   "source": [
    "import pandas as pd\n",
    "import numpy as np"
   ]
  },
  {
   "cell_type": "code",
   "execution_count": 109,
   "metadata": {},
   "outputs": [],
   "source": [
    "countries = pd.read_csv('world_countries.csv', decimal = ',')"
   ]
  },
  {
   "cell_type": "code",
   "execution_count": 110,
   "metadata": {},
   "outputs": [
    {
     "data": {
      "text/plain": [
       "Country                                0\n",
       "Region                                 0\n",
       "Population                             0\n",
       "Area_in_sqrmiles                       0\n",
       "Pop. Density (per sq. mi.)             0\n",
       "Infant mortality (per 1000 births)     3\n",
       "GDP ($ per capita)                     1\n",
       "Literacy (%)                          18\n",
       "Birthrate                              3\n",
       "Deathrate                              4\n",
       "dtype: int64"
      ]
     },
     "execution_count": 110,
     "metadata": {},
     "output_type": "execute_result"
    }
   ],
   "source": [
    "countries.isnull().sum()"
   ]
  },
  {
   "cell_type": "markdown",
   "metadata": {},
   "source": [
    "The variables with missing values are Infant mortality, GDP, Literacy, Birthrate, and Deathrate."
   ]
  },
  {
   "cell_type": "code",
   "execution_count": 111,
   "metadata": {},
   "outputs": [],
   "source": [
    "countries1 = countries.dropna()"
   ]
  },
  {
   "cell_type": "code",
   "execution_count": 112,
   "metadata": {},
   "outputs": [
    {
     "data": {
      "text/plain": [
       "Country                               0\n",
       "Region                                0\n",
       "Population                            0\n",
       "Area_in_sqrmiles                      0\n",
       "Pop. Density (per sq. mi.)            0\n",
       "Infant mortality (per 1000 births)    0\n",
       "GDP ($ per capita)                    0\n",
       "Literacy (%)                          0\n",
       "Birthrate                             0\n",
       "Deathrate                             0\n",
       "dtype: int64"
      ]
     },
     "execution_count": 112,
     "metadata": {},
     "output_type": "execute_result"
    }
   ],
   "source": [
    "countries1.isnull().sum()"
   ]
  },
  {
   "cell_type": "markdown",
   "metadata": {},
   "source": [
    "### Problem 2. \n",
    "Starting with the renamed dataset from problem 1, change the names of the columns Area_in_sqrmiles, Pop. Density (per sq. mi.)\", Infant mortality (per 1000 births), GDP ($ per capita), and Literacy (\\%) respectively to Area, Density, Infant_Mortality, GDP, and Literacy."
   ]
  },
  {
   "cell_type": "code",
   "execution_count": 113,
   "metadata": {},
   "outputs": [
    {
     "data": {
      "text/plain": [
       "Index(['Country', 'Region', 'Population', 'Area_in_sqrmiles',\n",
       "       'Pop. Density (per sq. mi.)', 'Infant mortality (per 1000 births)',\n",
       "       'GDP ($ per capita)', 'Literacy (%)', 'Birthrate', 'Deathrate'],\n",
       "      dtype='object')"
      ]
     },
     "execution_count": 113,
     "metadata": {},
     "output_type": "execute_result"
    }
   ],
   "source": [
    "countries1.columns"
   ]
  },
  {
   "cell_type": "code",
   "execution_count": 114,
   "metadata": {},
   "outputs": [],
   "source": [
    "countries2 = countries1.rename(columns={'Area_in_sqrmiles':'Area', 'Pop. Density (per sq. mi.)':'Density', 'Infant mortality (per 1000 births)':'Infant_Mortality', 'GDP ($ per capita)':'GDP', 'Literacy (%)':'Literacy'})"
   ]
  },
  {
   "cell_type": "code",
   "execution_count": 115,
   "metadata": {},
   "outputs": [
    {
     "data": {
      "text/plain": [
       "Index(['Country', 'Region', 'Population', 'Area', 'Density',\n",
       "       'Infant_Mortality', 'GDP', 'Literacy', 'Birthrate', 'Deathrate'],\n",
       "      dtype='object')"
      ]
     },
     "execution_count": 115,
     "metadata": {},
     "output_type": "execute_result"
    }
   ],
   "source": [
    "countries2.columns"
   ]
  },
  {
   "cell_type": "markdown",
   "metadata": {},
   "source": [
    "### Problem 3. \n",
    "Use groupby and mean function to find the following: a) Regions with maximum and minimum population density. b) Find and display how many countries does each region has?"
   ]
  },
  {
   "cell_type": "markdown",
   "metadata": {},
   "source": [
    "a)"
   ]
  },
  {
   "cell_type": "code",
   "execution_count": 116,
   "metadata": {},
   "outputs": [
    {
     "data": {
      "text/html": [
       "<div>\n",
       "<style scoped>\n",
       "    .dataframe tbody tr th:only-of-type {\n",
       "        vertical-align: middle;\n",
       "    }\n",
       "\n",
       "    .dataframe tbody tr th {\n",
       "        vertical-align: top;\n",
       "    }\n",
       "\n",
       "    .dataframe thead th {\n",
       "        text-align: right;\n",
       "    }\n",
       "</style>\n",
       "<table border=\"1\" class=\"dataframe\">\n",
       "  <thead>\n",
       "    <tr style=\"text-align: right;\">\n",
       "      <th></th>\n",
       "      <th>Density</th>\n",
       "    </tr>\n",
       "    <tr>\n",
       "      <th>Region</th>\n",
       "      <th></th>\n",
       "    </tr>\n",
       "  </thead>\n",
       "  <tbody>\n",
       "    <tr>\n",
       "      <th>ASIA (EX. NEAR EAST)</th>\n",
       "      <td>16183.0</td>\n",
       "    </tr>\n",
       "    <tr>\n",
       "      <th>BALTICS</th>\n",
       "      <td>55.0</td>\n",
       "    </tr>\n",
       "    <tr>\n",
       "      <th>C.W. OF IND. STATES</th>\n",
       "      <td>132.0</td>\n",
       "    </tr>\n",
       "    <tr>\n",
       "      <th>EASTERN EUROPE</th>\n",
       "      <td>129.8</td>\n",
       "    </tr>\n",
       "    <tr>\n",
       "      <th>LATIN AMER. &amp; CARIB</th>\n",
       "      <td>649.5</td>\n",
       "    </tr>\n",
       "    <tr>\n",
       "      <th>NEAR EAST</th>\n",
       "      <td>1050.5</td>\n",
       "    </tr>\n",
       "    <tr>\n",
       "      <th>NORTHERN AFRICA</th>\n",
       "      <td>78.8</td>\n",
       "    </tr>\n",
       "    <tr>\n",
       "      <th>NORTHERN AMERICA</th>\n",
       "      <td>1241.0</td>\n",
       "    </tr>\n",
       "    <tr>\n",
       "      <th>OCEANIA</th>\n",
       "      <td>316.1</td>\n",
       "    </tr>\n",
       "    <tr>\n",
       "      <th>SUB-SAHARAN AFRICA</th>\n",
       "      <td>608.3</td>\n",
       "    </tr>\n",
       "    <tr>\n",
       "      <th>WESTERN EUROPE</th>\n",
       "      <td>16271.5</td>\n",
       "    </tr>\n",
       "  </tbody>\n",
       "</table>\n",
       "</div>"
      ],
      "text/plain": [
       "                                     Density\n",
       "Region                                      \n",
       "ASIA (EX. NEAR EAST)                 16183.0\n",
       "BALTICS                                 55.0\n",
       "C.W. OF IND. STATES                    132.0\n",
       "EASTERN EUROPE                         129.8\n",
       "LATIN AMER. & CARIB                    649.5\n",
       "NEAR EAST                             1050.5\n",
       "NORTHERN AFRICA                         78.8\n",
       "NORTHERN AMERICA                      1241.0\n",
       "OCEANIA                                316.1\n",
       "SUB-SAHARAN AFRICA                     608.3\n",
       "WESTERN EUROPE                       16271.5"
      ]
     },
     "execution_count": 116,
     "metadata": {},
     "output_type": "execute_result"
    }
   ],
   "source": [
    "countries2.groupby(['Region'])['Density'].max().to_frame()"
   ]
  },
  {
   "cell_type": "code",
   "execution_count": 117,
   "metadata": {},
   "outputs": [
    {
     "data": {
      "text/html": [
       "<div>\n",
       "<style scoped>\n",
       "    .dataframe tbody tr th:only-of-type {\n",
       "        vertical-align: middle;\n",
       "    }\n",
       "\n",
       "    .dataframe tbody tr th {\n",
       "        vertical-align: top;\n",
       "    }\n",
       "\n",
       "    .dataframe thead th {\n",
       "        text-align: right;\n",
       "    }\n",
       "</style>\n",
       "<table border=\"1\" class=\"dataframe\">\n",
       "  <thead>\n",
       "    <tr style=\"text-align: right;\">\n",
       "      <th></th>\n",
       "      <th>Density</th>\n",
       "    </tr>\n",
       "    <tr>\n",
       "      <th>Region</th>\n",
       "      <th></th>\n",
       "    </tr>\n",
       "  </thead>\n",
       "  <tbody>\n",
       "    <tr>\n",
       "      <th>ASIA (EX. NEAR EAST)</th>\n",
       "      <td>1.8</td>\n",
       "    </tr>\n",
       "    <tr>\n",
       "      <th>BALTICS</th>\n",
       "      <td>29.3</td>\n",
       "    </tr>\n",
       "    <tr>\n",
       "      <th>C.W. OF IND. STATES</th>\n",
       "      <td>5.6</td>\n",
       "    </tr>\n",
       "    <tr>\n",
       "      <th>EASTERN EUROPE</th>\n",
       "      <td>66.6</td>\n",
       "    </tr>\n",
       "    <tr>\n",
       "      <th>LATIN AMER. &amp; CARIB</th>\n",
       "      <td>2.2</td>\n",
       "    </tr>\n",
       "    <tr>\n",
       "      <th>NEAR EAST</th>\n",
       "      <td>13.8</td>\n",
       "    </tr>\n",
       "    <tr>\n",
       "      <th>NORTHERN AFRICA</th>\n",
       "      <td>3.4</td>\n",
       "    </tr>\n",
       "    <tr>\n",
       "      <th>NORTHERN AMERICA</th>\n",
       "      <td>3.3</td>\n",
       "    </tr>\n",
       "    <tr>\n",
       "      <th>OCEANIA</th>\n",
       "      <td>2.6</td>\n",
       "    </tr>\n",
       "    <tr>\n",
       "      <th>SUB-SAHARAN AFRICA</th>\n",
       "      <td>2.5</td>\n",
       "    </tr>\n",
       "    <tr>\n",
       "      <th>WESTERN EUROPE</th>\n",
       "      <td>2.9</td>\n",
       "    </tr>\n",
       "  </tbody>\n",
       "</table>\n",
       "</div>"
      ],
      "text/plain": [
       "                                     Density\n",
       "Region                                      \n",
       "ASIA (EX. NEAR EAST)                     1.8\n",
       "BALTICS                                 29.3\n",
       "C.W. OF IND. STATES                      5.6\n",
       "EASTERN EUROPE                          66.6\n",
       "LATIN AMER. & CARIB                      2.2\n",
       "NEAR EAST                               13.8\n",
       "NORTHERN AFRICA                          3.4\n",
       "NORTHERN AMERICA                         3.3\n",
       "OCEANIA                                  2.6\n",
       "SUB-SAHARAN AFRICA                       2.5\n",
       "WESTERN EUROPE                           2.9"
      ]
     },
     "execution_count": 117,
     "metadata": {},
     "output_type": "execute_result"
    }
   ],
   "source": [
    "countries2.groupby(['Region'])['Density'].min().to_frame()"
   ]
  },
  {
   "cell_type": "markdown",
   "metadata": {},
   "source": [
    "Region with the max population density is C.W. OF IND. STATES.\n",
    "Region with the min population density is ASIA (EX. NEAR EAST)."
   ]
  },
  {
   "cell_type": "markdown",
   "metadata": {},
   "source": [
    "b)"
   ]
  },
  {
   "cell_type": "code",
   "execution_count": 118,
   "metadata": {
    "scrolled": true
   },
   "outputs": [
    {
     "data": {
      "text/html": [
       "<div>\n",
       "<style scoped>\n",
       "    .dataframe tbody tr th:only-of-type {\n",
       "        vertical-align: middle;\n",
       "    }\n",
       "\n",
       "    .dataframe tbody tr th {\n",
       "        vertical-align: top;\n",
       "    }\n",
       "\n",
       "    .dataframe thead th {\n",
       "        text-align: right;\n",
       "    }\n",
       "</style>\n",
       "<table border=\"1\" class=\"dataframe\">\n",
       "  <thead>\n",
       "    <tr style=\"text-align: right;\">\n",
       "      <th></th>\n",
       "      <th>Density</th>\n",
       "    </tr>\n",
       "    <tr>\n",
       "      <th>Region</th>\n",
       "      <th></th>\n",
       "    </tr>\n",
       "  </thead>\n",
       "  <tbody>\n",
       "    <tr>\n",
       "      <th>ASIA (EX. NEAR EAST)</th>\n",
       "      <td>28</td>\n",
       "    </tr>\n",
       "    <tr>\n",
       "      <th>BALTICS</th>\n",
       "      <td>3</td>\n",
       "    </tr>\n",
       "    <tr>\n",
       "      <th>C.W. OF IND. STATES</th>\n",
       "      <td>12</td>\n",
       "    </tr>\n",
       "    <tr>\n",
       "      <th>EASTERN EUROPE</th>\n",
       "      <td>8</td>\n",
       "    </tr>\n",
       "    <tr>\n",
       "      <th>LATIN AMER. &amp; CARIB</th>\n",
       "      <td>44</td>\n",
       "    </tr>\n",
       "    <tr>\n",
       "      <th>NEAR EAST</th>\n",
       "      <td>14</td>\n",
       "    </tr>\n",
       "    <tr>\n",
       "      <th>NORTHERN AFRICA</th>\n",
       "      <td>5</td>\n",
       "    </tr>\n",
       "    <tr>\n",
       "      <th>NORTHERN AMERICA</th>\n",
       "      <td>4</td>\n",
       "    </tr>\n",
       "    <tr>\n",
       "      <th>OCEANIA</th>\n",
       "      <td>15</td>\n",
       "    </tr>\n",
       "    <tr>\n",
       "      <th>SUB-SAHARAN AFRICA</th>\n",
       "      <td>50</td>\n",
       "    </tr>\n",
       "    <tr>\n",
       "      <th>WESTERN EUROPE</th>\n",
       "      <td>23</td>\n",
       "    </tr>\n",
       "  </tbody>\n",
       "</table>\n",
       "</div>"
      ],
      "text/plain": [
       "                                     Density\n",
       "Region                                      \n",
       "ASIA (EX. NEAR EAST)                      28\n",
       "BALTICS                                    3\n",
       "C.W. OF IND. STATES                       12\n",
       "EASTERN EUROPE                             8\n",
       "LATIN AMER. & CARIB                       44\n",
       "NEAR EAST                                 14\n",
       "NORTHERN AFRICA                            5\n",
       "NORTHERN AMERICA                           4\n",
       "OCEANIA                                   15\n",
       "SUB-SAHARAN AFRICA                        50\n",
       "WESTERN EUROPE                            23"
      ]
     },
     "execution_count": 118,
     "metadata": {},
     "output_type": "execute_result"
    }
   ],
   "source": [
    "countries2.groupby(['Region'])['Density'].count().to_frame()"
   ]
  },
  {
   "cell_type": "markdown",
   "metadata": {},
   "source": [
    "### Problem 4. \n",
    "Use nlargest function to find out ten rows that have the largest Infant_Mortality rate. Do the same with nsmallest function and Literacy column. Comment on these data sets that you get."
   ]
  },
  {
   "cell_type": "code",
   "execution_count": 119,
   "metadata": {},
   "outputs": [
    {
     "data": {
      "text/html": [
       "<div>\n",
       "<style scoped>\n",
       "    .dataframe tbody tr th:only-of-type {\n",
       "        vertical-align: middle;\n",
       "    }\n",
       "\n",
       "    .dataframe tbody tr th {\n",
       "        vertical-align: top;\n",
       "    }\n",
       "\n",
       "    .dataframe thead th {\n",
       "        text-align: right;\n",
       "    }\n",
       "</style>\n",
       "<table border=\"1\" class=\"dataframe\">\n",
       "  <thead>\n",
       "    <tr style=\"text-align: right;\">\n",
       "      <th></th>\n",
       "      <th>Country</th>\n",
       "      <th>Region</th>\n",
       "      <th>Population</th>\n",
       "      <th>Area</th>\n",
       "      <th>Density</th>\n",
       "      <th>Infant_Mortality</th>\n",
       "      <th>GDP</th>\n",
       "      <th>Literacy</th>\n",
       "      <th>Birthrate</th>\n",
       "      <th>Deathrate</th>\n",
       "    </tr>\n",
       "  </thead>\n",
       "  <tbody>\n",
       "    <tr>\n",
       "      <th>5</th>\n",
       "      <td>Angola</td>\n",
       "      <td>SUB-SAHARAN AFRICA</td>\n",
       "      <td>12127071</td>\n",
       "      <td>1246700</td>\n",
       "      <td>9.7</td>\n",
       "      <td>191.19</td>\n",
       "      <td>1900.0</td>\n",
       "      <td>42.0</td>\n",
       "      <td>45.11</td>\n",
       "      <td>24.20</td>\n",
       "    </tr>\n",
       "    <tr>\n",
       "      <th>0</th>\n",
       "      <td>Afghanistan</td>\n",
       "      <td>ASIA (EX. NEAR EAST)</td>\n",
       "      <td>31056997</td>\n",
       "      <td>647500</td>\n",
       "      <td>48.0</td>\n",
       "      <td>163.07</td>\n",
       "      <td>700.0</td>\n",
       "      <td>36.0</td>\n",
       "      <td>46.60</td>\n",
       "      <td>20.34</td>\n",
       "    </tr>\n",
       "    <tr>\n",
       "      <th>183</th>\n",
       "      <td>Sierra Leone</td>\n",
       "      <td>SUB-SAHARAN AFRICA</td>\n",
       "      <td>6005250</td>\n",
       "      <td>71740</td>\n",
       "      <td>83.7</td>\n",
       "      <td>143.64</td>\n",
       "      <td>500.0</td>\n",
       "      <td>31.4</td>\n",
       "      <td>45.76</td>\n",
       "      <td>23.03</td>\n",
       "    </tr>\n",
       "    <tr>\n",
       "      <th>142</th>\n",
       "      <td>Mozambique</td>\n",
       "      <td>SUB-SAHARAN AFRICA</td>\n",
       "      <td>19686505</td>\n",
       "      <td>801590</td>\n",
       "      <td>24.6</td>\n",
       "      <td>130.79</td>\n",
       "      <td>1200.0</td>\n",
       "      <td>47.8</td>\n",
       "      <td>35.18</td>\n",
       "      <td>21.35</td>\n",
       "    </tr>\n",
       "    <tr>\n",
       "      <th>117</th>\n",
       "      <td>Liberia</td>\n",
       "      <td>SUB-SAHARAN AFRICA</td>\n",
       "      <td>3042004</td>\n",
       "      <td>111370</td>\n",
       "      <td>27.3</td>\n",
       "      <td>128.87</td>\n",
       "      <td>1000.0</td>\n",
       "      <td>57.5</td>\n",
       "      <td>44.77</td>\n",
       "      <td>23.10</td>\n",
       "    </tr>\n",
       "    <tr>\n",
       "      <th>151</th>\n",
       "      <td>Niger</td>\n",
       "      <td>SUB-SAHARAN AFRICA</td>\n",
       "      <td>12525094</td>\n",
       "      <td>1267000</td>\n",
       "      <td>9.9</td>\n",
       "      <td>121.69</td>\n",
       "      <td>800.0</td>\n",
       "      <td>17.6</td>\n",
       "      <td>50.73</td>\n",
       "      <td>20.91</td>\n",
       "    </tr>\n",
       "    <tr>\n",
       "      <th>128</th>\n",
       "      <td>Mali</td>\n",
       "      <td>SUB-SAHARAN AFRICA</td>\n",
       "      <td>11716829</td>\n",
       "      <td>1240000</td>\n",
       "      <td>9.5</td>\n",
       "      <td>116.79</td>\n",
       "      <td>900.0</td>\n",
       "      <td>46.4</td>\n",
       "      <td>49.82</td>\n",
       "      <td>16.89</td>\n",
       "    </tr>\n",
       "    <tr>\n",
       "      <th>188</th>\n",
       "      <td>Somalia</td>\n",
       "      <td>SUB-SAHARAN AFRICA</td>\n",
       "      <td>8863338</td>\n",
       "      <td>637657</td>\n",
       "      <td>13.9</td>\n",
       "      <td>116.70</td>\n",
       "      <td>500.0</td>\n",
       "      <td>37.8</td>\n",
       "      <td>45.13</td>\n",
       "      <td>16.63</td>\n",
       "    </tr>\n",
       "    <tr>\n",
       "      <th>199</th>\n",
       "      <td>Tajikistan</td>\n",
       "      <td>C.W. OF IND. STATES</td>\n",
       "      <td>7320815</td>\n",
       "      <td>143100</td>\n",
       "      <td>51.2</td>\n",
       "      <td>110.76</td>\n",
       "      <td>1000.0</td>\n",
       "      <td>99.4</td>\n",
       "      <td>32.65</td>\n",
       "      <td>8.25</td>\n",
       "    </tr>\n",
       "    <tr>\n",
       "      <th>87</th>\n",
       "      <td>Guinea-Bissau</td>\n",
       "      <td>SUB-SAHARAN AFRICA</td>\n",
       "      <td>1442029</td>\n",
       "      <td>36120</td>\n",
       "      <td>39.9</td>\n",
       "      <td>107.17</td>\n",
       "      <td>800.0</td>\n",
       "      <td>42.4</td>\n",
       "      <td>37.22</td>\n",
       "      <td>16.53</td>\n",
       "    </tr>\n",
       "  </tbody>\n",
       "</table>\n",
       "</div>"
      ],
      "text/plain": [
       "            Country                               Region  Population     Area  \\\n",
       "5           Angola   SUB-SAHARAN AFRICA                     12127071  1246700   \n",
       "0      Afghanistan         ASIA (EX. NEAR EAST)             31056997   647500   \n",
       "183   Sierra Leone   SUB-SAHARAN AFRICA                      6005250    71740   \n",
       "142     Mozambique   SUB-SAHARAN AFRICA                     19686505   801590   \n",
       "117        Liberia   SUB-SAHARAN AFRICA                      3042004   111370   \n",
       "151          Niger   SUB-SAHARAN AFRICA                     12525094  1267000   \n",
       "128           Mali   SUB-SAHARAN AFRICA                     11716829  1240000   \n",
       "188        Somalia   SUB-SAHARAN AFRICA                      8863338   637657   \n",
       "199     Tajikistan                  C.W. OF IND. STATES      7320815   143100   \n",
       "87   Guinea-Bissau   SUB-SAHARAN AFRICA                      1442029    36120   \n",
       "\n",
       "     Density  Infant_Mortality     GDP  Literacy  Birthrate  Deathrate  \n",
       "5        9.7            191.19  1900.0      42.0      45.11      24.20  \n",
       "0       48.0            163.07   700.0      36.0      46.60      20.34  \n",
       "183     83.7            143.64   500.0      31.4      45.76      23.03  \n",
       "142     24.6            130.79  1200.0      47.8      35.18      21.35  \n",
       "117     27.3            128.87  1000.0      57.5      44.77      23.10  \n",
       "151      9.9            121.69   800.0      17.6      50.73      20.91  \n",
       "128      9.5            116.79   900.0      46.4      49.82      16.89  \n",
       "188     13.9            116.70   500.0      37.8      45.13      16.63  \n",
       "199     51.2            110.76  1000.0      99.4      32.65       8.25  \n",
       "87      39.9            107.17   800.0      42.4      37.22      16.53  "
      ]
     },
     "execution_count": 119,
     "metadata": {},
     "output_type": "execute_result"
    }
   ],
   "source": [
    "countries2.nlargest(10, 'Infant_Mortality')"
   ]
  },
  {
   "cell_type": "markdown",
   "metadata": {},
   "source": [
    "The region with the most countries that have the highest infant mortality rate is SUB-SAHARAN AFRICA."
   ]
  },
  {
   "cell_type": "code",
   "execution_count": 120,
   "metadata": {},
   "outputs": [
    {
     "data": {
      "text/html": [
       "<div>\n",
       "<style scoped>\n",
       "    .dataframe tbody tr th:only-of-type {\n",
       "        vertical-align: middle;\n",
       "    }\n",
       "\n",
       "    .dataframe tbody tr th {\n",
       "        vertical-align: top;\n",
       "    }\n",
       "\n",
       "    .dataframe thead th {\n",
       "        text-align: right;\n",
       "    }\n",
       "</style>\n",
       "<table border=\"1\" class=\"dataframe\">\n",
       "  <thead>\n",
       "    <tr style=\"text-align: right;\">\n",
       "      <th></th>\n",
       "      <th>Country</th>\n",
       "      <th>Region</th>\n",
       "      <th>Population</th>\n",
       "      <th>Area</th>\n",
       "      <th>Density</th>\n",
       "      <th>Infant_Mortality</th>\n",
       "      <th>GDP</th>\n",
       "      <th>Literacy</th>\n",
       "      <th>Birthrate</th>\n",
       "      <th>Deathrate</th>\n",
       "    </tr>\n",
       "  </thead>\n",
       "  <tbody>\n",
       "    <tr>\n",
       "      <th>151</th>\n",
       "      <td>Niger</td>\n",
       "      <td>SUB-SAHARAN AFRICA</td>\n",
       "      <td>12525094</td>\n",
       "      <td>1267000</td>\n",
       "      <td>9.9</td>\n",
       "      <td>121.69</td>\n",
       "      <td>800.0</td>\n",
       "      <td>17.6</td>\n",
       "      <td>50.73</td>\n",
       "      <td>20.91</td>\n",
       "    </tr>\n",
       "    <tr>\n",
       "      <th>31</th>\n",
       "      <td>Burkina Faso</td>\n",
       "      <td>SUB-SAHARAN AFRICA</td>\n",
       "      <td>13902972</td>\n",
       "      <td>274200</td>\n",
       "      <td>50.7</td>\n",
       "      <td>97.57</td>\n",
       "      <td>1100.0</td>\n",
       "      <td>26.6</td>\n",
       "      <td>45.62</td>\n",
       "      <td>15.60</td>\n",
       "    </tr>\n",
       "    <tr>\n",
       "      <th>183</th>\n",
       "      <td>Sierra Leone</td>\n",
       "      <td>SUB-SAHARAN AFRICA</td>\n",
       "      <td>6005250</td>\n",
       "      <td>71740</td>\n",
       "      <td>83.7</td>\n",
       "      <td>143.64</td>\n",
       "      <td>500.0</td>\n",
       "      <td>31.4</td>\n",
       "      <td>45.76</td>\n",
       "      <td>23.03</td>\n",
       "    </tr>\n",
       "    <tr>\n",
       "      <th>86</th>\n",
       "      <td>Guinea</td>\n",
       "      <td>SUB-SAHARAN AFRICA</td>\n",
       "      <td>9690222</td>\n",
       "      <td>245857</td>\n",
       "      <td>39.4</td>\n",
       "      <td>90.37</td>\n",
       "      <td>2100.0</td>\n",
       "      <td>35.9</td>\n",
       "      <td>41.76</td>\n",
       "      <td>15.48</td>\n",
       "    </tr>\n",
       "    <tr>\n",
       "      <th>0</th>\n",
       "      <td>Afghanistan</td>\n",
       "      <td>ASIA (EX. NEAR EAST)</td>\n",
       "      <td>31056997</td>\n",
       "      <td>647500</td>\n",
       "      <td>48.0</td>\n",
       "      <td>163.07</td>\n",
       "      <td>700.0</td>\n",
       "      <td>36.0</td>\n",
       "      <td>46.60</td>\n",
       "      <td>20.34</td>\n",
       "    </tr>\n",
       "    <tr>\n",
       "      <th>188</th>\n",
       "      <td>Somalia</td>\n",
       "      <td>SUB-SAHARAN AFRICA</td>\n",
       "      <td>8863338</td>\n",
       "      <td>637657</td>\n",
       "      <td>13.9</td>\n",
       "      <td>116.70</td>\n",
       "      <td>500.0</td>\n",
       "      <td>37.8</td>\n",
       "      <td>45.13</td>\n",
       "      <td>16.63</td>\n",
       "    </tr>\n",
       "    <tr>\n",
       "      <th>73</th>\n",
       "      <td>Gambia, The</td>\n",
       "      <td>SUB-SAHARAN AFRICA</td>\n",
       "      <td>1641564</td>\n",
       "      <td>11300</td>\n",
       "      <td>145.3</td>\n",
       "      <td>72.02</td>\n",
       "      <td>1700.0</td>\n",
       "      <td>40.1</td>\n",
       "      <td>39.37</td>\n",
       "      <td>12.25</td>\n",
       "    </tr>\n",
       "    <tr>\n",
       "      <th>180</th>\n",
       "      <td>Senegal</td>\n",
       "      <td>SUB-SAHARAN AFRICA</td>\n",
       "      <td>11987121</td>\n",
       "      <td>196190</td>\n",
       "      <td>61.1</td>\n",
       "      <td>55.51</td>\n",
       "      <td>1600.0</td>\n",
       "      <td>40.2</td>\n",
       "      <td>32.78</td>\n",
       "      <td>9.42</td>\n",
       "    </tr>\n",
       "    <tr>\n",
       "      <th>97</th>\n",
       "      <td>Iraq</td>\n",
       "      <td>NEAR EAST</td>\n",
       "      <td>26783383</td>\n",
       "      <td>437072</td>\n",
       "      <td>61.3</td>\n",
       "      <td>50.25</td>\n",
       "      <td>1500.0</td>\n",
       "      <td>40.4</td>\n",
       "      <td>31.98</td>\n",
       "      <td>5.37</td>\n",
       "    </tr>\n",
       "    <tr>\n",
       "      <th>21</th>\n",
       "      <td>Benin</td>\n",
       "      <td>SUB-SAHARAN AFRICA</td>\n",
       "      <td>7862944</td>\n",
       "      <td>112620</td>\n",
       "      <td>69.8</td>\n",
       "      <td>85.00</td>\n",
       "      <td>1100.0</td>\n",
       "      <td>40.9</td>\n",
       "      <td>38.85</td>\n",
       "      <td>12.22</td>\n",
       "    </tr>\n",
       "  </tbody>\n",
       "</table>\n",
       "</div>"
      ],
      "text/plain": [
       "           Country                               Region  Population     Area  \\\n",
       "151         Niger   SUB-SAHARAN AFRICA                     12525094  1267000   \n",
       "31   Burkina Faso   SUB-SAHARAN AFRICA                     13902972   274200   \n",
       "183  Sierra Leone   SUB-SAHARAN AFRICA                      6005250    71740   \n",
       "86         Guinea   SUB-SAHARAN AFRICA                      9690222   245857   \n",
       "0     Afghanistan         ASIA (EX. NEAR EAST)             31056997   647500   \n",
       "188       Somalia   SUB-SAHARAN AFRICA                      8863338   637657   \n",
       "73    Gambia, The   SUB-SAHARAN AFRICA                      1641564    11300   \n",
       "180       Senegal   SUB-SAHARAN AFRICA                     11987121   196190   \n",
       "97           Iraq   NEAR EAST                              26783383   437072   \n",
       "21          Benin   SUB-SAHARAN AFRICA                      7862944   112620   \n",
       "\n",
       "     Density  Infant_Mortality     GDP  Literacy  Birthrate  Deathrate  \n",
       "151      9.9            121.69   800.0      17.6      50.73      20.91  \n",
       "31      50.7             97.57  1100.0      26.6      45.62      15.60  \n",
       "183     83.7            143.64   500.0      31.4      45.76      23.03  \n",
       "86      39.4             90.37  2100.0      35.9      41.76      15.48  \n",
       "0       48.0            163.07   700.0      36.0      46.60      20.34  \n",
       "188     13.9            116.70   500.0      37.8      45.13      16.63  \n",
       "73     145.3             72.02  1700.0      40.1      39.37      12.25  \n",
       "180     61.1             55.51  1600.0      40.2      32.78       9.42  \n",
       "97      61.3             50.25  1500.0      40.4      31.98       5.37  \n",
       "21      69.8             85.00  1100.0      40.9      38.85      12.22  "
      ]
     },
     "execution_count": 120,
     "metadata": {},
     "output_type": "execute_result"
    }
   ],
   "source": [
    "countries2.nsmallest(10, 'Literacy')"
   ]
  },
  {
   "cell_type": "markdown",
   "metadata": {},
   "source": [
    "The region with the most countries that have the lowest literacy rate is SUB-SAHARAN AFRICA."
   ]
  },
  {
   "cell_type": "markdown",
   "metadata": {},
   "source": [
    "### Problem 5. \n",
    "Which countries have a perfect literacy score and a population of 100 million or more? Comment on the answer you get."
   ]
  },
  {
   "cell_type": "code",
   "execution_count": 4,
   "metadata": {},
   "outputs": [],
   "source": [
    "# Let's load a few more packages mainly for plotting.\n",
    "import matplotlib as mpl\n",
    "import matplotlib.pyplot as mpt\n",
    "import seaborn as sbn\n",
    "# Plotting will be discussed in next week's lecture."
   ]
  },
  {
   "cell_type": "code",
   "execution_count": 90,
   "metadata": {},
   "outputs": [],
   "source": [
    "import matplotlib as mpl\n",
    "import matplotlib.pyplot as mpt\n",
    "import seaborn as sbn"
   ]
  },
  {
   "cell_type": "code",
   "execution_count": 94,
   "metadata": {},
   "outputs": [
    {
     "data": {
      "text/html": [
       "<div>\n",
       "<style scoped>\n",
       "    .dataframe tbody tr th:only-of-type {\n",
       "        vertical-align: middle;\n",
       "    }\n",
       "\n",
       "    .dataframe tbody tr th {\n",
       "        vertical-align: top;\n",
       "    }\n",
       "\n",
       "    .dataframe thead th {\n",
       "        text-align: right;\n",
       "    }\n",
       "</style>\n",
       "<table border=\"1\" class=\"dataframe\">\n",
       "  <thead>\n",
       "    <tr style=\"text-align: right;\">\n",
       "      <th></th>\n",
       "      <th>Country</th>\n",
       "      <th>Region</th>\n",
       "      <th>Population</th>\n",
       "      <th>Area</th>\n",
       "      <th>Density</th>\n",
       "      <th>Infant_Mortality</th>\n",
       "      <th>GDP</th>\n",
       "      <th>Literacy</th>\n",
       "      <th>Birthrate</th>\n",
       "      <th>Deathrate</th>\n",
       "    </tr>\n",
       "  </thead>\n",
       "  <tbody>\n",
       "  </tbody>\n",
       "</table>\n",
       "</div>"
      ],
      "text/plain": [
       "Empty DataFrame\n",
       "Columns: [Country, Region, Population, Area, Density, Infant_Mortality, GDP, Literacy, Birthrate, Deathrate]\n",
       "Index: []"
      ]
     },
     "execution_count": 94,
     "metadata": {},
     "output_type": "execute_result"
    }
   ],
   "source": [
    "countries2.loc[(countries2[\"Literacy\"] == 100.0) & (countries2[\"Population\"] >= 100000000)]"
   ]
  },
  {
   "cell_type": "markdown",
   "metadata": {},
   "source": [
    "There are no countries with a perfect literacy score and a population of 100 million or more."
   ]
  },
  {
   "cell_type": "markdown",
   "metadata": {},
   "source": [
    "### Problem 6. \n",
    "Use plot function to scatter plot with Area in x-axis and population in the y-axis. You will see that one country while having a low area, has an exceptionally high population and one country despite having a very large area has a low population. Name these countries."
   ]
  },
  {
   "cell_type": "code",
   "execution_count": 101,
   "metadata": {},
   "outputs": [
    {
     "data": {
      "text/plain": [
       "0      Text(647500, 31056997, 'Afghanistan ')\n",
       "1            Text(28748, 3581655, 'Albania ')\n",
       "2         Text(2381740, 32930091, 'Algeria ')\n",
       "3         Text(199, 57794, 'American Samoa ')\n",
       "4                Text(468, 71201, 'Andorra ')\n",
       "                        ...                  \n",
       "218      Text(912050, 25730435, 'Venezuela ')\n",
       "219        Text(329560, 84402966, 'Vietnam ')\n",
       "224          Text(527970, 21456188, 'Yemen ')\n",
       "225         Text(752614, 11502010, 'Zambia ')\n",
       "226       Text(390580, 12236805, 'Zimbabwe ')\n",
       "Length: 206, dtype: object"
      ]
     },
     "execution_count": 101,
     "metadata": {},
     "output_type": "execute_result"
    },
    {
     "data": {
      "image/png": "[encoded data removed]",
      "text/plain": [
       "<Figure size 360x360 with 1 Axes>"
      ]
     },
     "metadata": {
      "needs_background": "light"
     },
     "output_type": "display_data"
    }
   ],
   "source": [
    "ax = countries2.plot(kind = 'scatter', x = 'Area', y = 'Population', figsize = (5,5))\n",
    "countries2[['Area','Population','Country']].apply(lambda row: ax.text(*row),axis=1)"
   ]
  },
  {
   "cell_type": "markdown",
   "metadata": {},
   "source": [
    "Country with a low area and high population is India.\n",
    "Country with a high area and low population is Russia."
   ]
  },
  {
   "cell_type": "markdown",
   "metadata": {},
   "source": [
    "### Problem 7. \n",
    "Use plot function to scatter plot with Literacy in x-axis and GDP in the y-axis. Do you agree with the statement? \"Countries with higher literacy rates also have higher GDP.\""
   ]
  },
  {
   "cell_type": "code",
   "execution_count": 102,
   "metadata": {},
   "outputs": [
    {
     "data": {
      "text/plain": [
       "<AxesSubplot:xlabel='Literacy', ylabel='GDP'>"
      ]
     },
     "execution_count": 102,
     "metadata": {},
     "output_type": "execute_result"
    },
    {
     "data": {
      "image/png": "[encoded data removed]",
      "text/plain": [
       "<Figure size 360x360 with 1 Axes>"
      ]
     },
     "metadata": {
      "needs_background": "light"
     },
     "output_type": "display_data"
    }
   ],
   "source": [
    "countries2.plot(kind = 'scatter', x = 'Literacy', y = 'GDP', figsize = (5,5))"
   ]
  },
  {
   "cell_type": "markdown",
   "metadata": {},
   "source": [
    "Based on this plot, I do not believe that that higher literacy means higher GDP."
   ]
  },
  {
   "cell_type": "markdown",
   "metadata": {},
   "source": [
    "### Problem 8. \n",
    "Create a new column called \"Difference,\" which is the difference between Birthrate and Deathrate and answer the question: Which country has the highest rate of population increase?"
   ]
  },
  {
   "cell_type": "code",
   "execution_count": 123,
   "metadata": {},
   "outputs": [],
   "source": [
    "difference = countries2['Birthrate'] - countries2['Deathrate']"
   ]
  },
  {
   "cell_type": "code",
   "execution_count": 131,
   "metadata": {},
   "outputs": [
    {
     "data": {
      "text/html": [
       "<div>\n",
       "<style scoped>\n",
       "    .dataframe tbody tr th:only-of-type {\n",
       "        vertical-align: middle;\n",
       "    }\n",
       "\n",
       "    .dataframe tbody tr th {\n",
       "        vertical-align: top;\n",
       "    }\n",
       "\n",
       "    .dataframe thead th {\n",
       "        text-align: right;\n",
       "    }\n",
       "</style>\n",
       "<table border=\"1\" class=\"dataframe\">\n",
       "  <thead>\n",
       "    <tr style=\"text-align: right;\">\n",
       "      <th></th>\n",
       "      <th>Country</th>\n",
       "      <th>Region</th>\n",
       "      <th>Population</th>\n",
       "      <th>Area</th>\n",
       "      <th>Density</th>\n",
       "      <th>Infant_Mortality</th>\n",
       "      <th>GDP</th>\n",
       "      <th>Literacy</th>\n",
       "      <th>Birthrate</th>\n",
       "      <th>Deathrate</th>\n",
       "      <th>Difference</th>\n",
       "    </tr>\n",
       "  </thead>\n",
       "  <tbody>\n",
       "    <tr>\n",
       "      <th>0</th>\n",
       "      <td>Afghanistan</td>\n",
       "      <td>ASIA (EX. NEAR EAST)</td>\n",
       "      <td>31056997</td>\n",
       "      <td>647500</td>\n",
       "      <td>48.0</td>\n",
       "      <td>163.07</td>\n",
       "      <td>700.0</td>\n",
       "      <td>36.0</td>\n",
       "      <td>46.60</td>\n",
       "      <td>20.34</td>\n",
       "      <td>26.26</td>\n",
       "    </tr>\n",
       "    <tr>\n",
       "      <th>1</th>\n",
       "      <td>Albania</td>\n",
       "      <td>EASTERN EUROPE</td>\n",
       "      <td>3581655</td>\n",
       "      <td>28748</td>\n",
       "      <td>124.6</td>\n",
       "      <td>21.52</td>\n",
       "      <td>4500.0</td>\n",
       "      <td>86.5</td>\n",
       "      <td>15.11</td>\n",
       "      <td>5.22</td>\n",
       "      <td>9.89</td>\n",
       "    </tr>\n",
       "    <tr>\n",
       "      <th>2</th>\n",
       "      <td>Algeria</td>\n",
       "      <td>NORTHERN AFRICA</td>\n",
       "      <td>32930091</td>\n",
       "      <td>2381740</td>\n",
       "      <td>13.8</td>\n",
       "      <td>31.00</td>\n",
       "      <td>6000.0</td>\n",
       "      <td>70.0</td>\n",
       "      <td>17.14</td>\n",
       "      <td>4.61</td>\n",
       "      <td>12.53</td>\n",
       "    </tr>\n",
       "    <tr>\n",
       "      <th>3</th>\n",
       "      <td>American Samoa</td>\n",
       "      <td>OCEANIA</td>\n",
       "      <td>57794</td>\n",
       "      <td>199</td>\n",
       "      <td>290.4</td>\n",
       "      <td>9.27</td>\n",
       "      <td>8000.0</td>\n",
       "      <td>97.0</td>\n",
       "      <td>22.46</td>\n",
       "      <td>3.27</td>\n",
       "      <td>19.19</td>\n",
       "    </tr>\n",
       "    <tr>\n",
       "      <th>4</th>\n",
       "      <td>Andorra</td>\n",
       "      <td>WESTERN EUROPE</td>\n",
       "      <td>71201</td>\n",
       "      <td>468</td>\n",
       "      <td>152.1</td>\n",
       "      <td>4.05</td>\n",
       "      <td>19000.0</td>\n",
       "      <td>100.0</td>\n",
       "      <td>8.71</td>\n",
       "      <td>6.25</td>\n",
       "      <td>2.46</td>\n",
       "    </tr>\n",
       "    <tr>\n",
       "      <th>...</th>\n",
       "      <td>...</td>\n",
       "      <td>...</td>\n",
       "      <td>...</td>\n",
       "      <td>...</td>\n",
       "      <td>...</td>\n",
       "      <td>...</td>\n",
       "      <td>...</td>\n",
       "      <td>...</td>\n",
       "      <td>...</td>\n",
       "      <td>...</td>\n",
       "      <td>...</td>\n",
       "    </tr>\n",
       "    <tr>\n",
       "      <th>218</th>\n",
       "      <td>Venezuela</td>\n",
       "      <td>LATIN AMER. &amp; CARIB</td>\n",
       "      <td>25730435</td>\n",
       "      <td>912050</td>\n",
       "      <td>28.2</td>\n",
       "      <td>22.20</td>\n",
       "      <td>4800.0</td>\n",
       "      <td>93.4</td>\n",
       "      <td>18.71</td>\n",
       "      <td>4.92</td>\n",
       "      <td>13.79</td>\n",
       "    </tr>\n",
       "    <tr>\n",
       "      <th>219</th>\n",
       "      <td>Vietnam</td>\n",
       "      <td>ASIA (EX. NEAR EAST)</td>\n",
       "      <td>84402966</td>\n",
       "      <td>329560</td>\n",
       "      <td>256.1</td>\n",
       "      <td>25.95</td>\n",
       "      <td>2500.0</td>\n",
       "      <td>90.3</td>\n",
       "      <td>16.86</td>\n",
       "      <td>6.22</td>\n",
       "      <td>10.64</td>\n",
       "    </tr>\n",
       "    <tr>\n",
       "      <th>224</th>\n",
       "      <td>Yemen</td>\n",
       "      <td>NEAR EAST</td>\n",
       "      <td>21456188</td>\n",
       "      <td>527970</td>\n",
       "      <td>40.6</td>\n",
       "      <td>61.50</td>\n",
       "      <td>800.0</td>\n",
       "      <td>50.2</td>\n",
       "      <td>42.89</td>\n",
       "      <td>8.30</td>\n",
       "      <td>34.59</td>\n",
       "    </tr>\n",
       "    <tr>\n",
       "      <th>225</th>\n",
       "      <td>Zambia</td>\n",
       "      <td>SUB-SAHARAN AFRICA</td>\n",
       "      <td>11502010</td>\n",
       "      <td>752614</td>\n",
       "      <td>15.3</td>\n",
       "      <td>88.29</td>\n",
       "      <td>800.0</td>\n",
       "      <td>80.6</td>\n",
       "      <td>41.00</td>\n",
       "      <td>19.93</td>\n",
       "      <td>21.07</td>\n",
       "    </tr>\n",
       "    <tr>\n",
       "      <th>226</th>\n",
       "      <td>Zimbabwe</td>\n",
       "      <td>SUB-SAHARAN AFRICA</td>\n",
       "      <td>12236805</td>\n",
       "      <td>390580</td>\n",
       "      <td>31.3</td>\n",
       "      <td>67.69</td>\n",
       "      <td>1900.0</td>\n",
       "      <td>90.7</td>\n",
       "      <td>28.01</td>\n",
       "      <td>21.84</td>\n",
       "      <td>6.17</td>\n",
       "    </tr>\n",
       "  </tbody>\n",
       "</table>\n",
       "<p>206 rows × 11 columns</p>\n",
       "</div>"
      ],
      "text/plain": [
       "             Country                               Region  Population  \\\n",
       "0       Afghanistan         ASIA (EX. NEAR EAST)             31056997   \n",
       "1           Albania   EASTERN EUROPE                          3581655   \n",
       "2           Algeria   NORTHERN AFRICA                        32930091   \n",
       "3    American Samoa   OCEANIA                                   57794   \n",
       "4           Andorra   WESTERN EUROPE                            71201   \n",
       "..               ...                                  ...         ...   \n",
       "218       Venezuela               LATIN AMER. & CARIB        25730435   \n",
       "219         Vietnam         ASIA (EX. NEAR EAST)             84402966   \n",
       "224           Yemen   NEAR EAST                              21456188   \n",
       "225          Zambia   SUB-SAHARAN AFRICA                     11502010   \n",
       "226        Zimbabwe   SUB-SAHARAN AFRICA                     12236805   \n",
       "\n",
       "        Area  Density  Infant_Mortality      GDP  Literacy  Birthrate  \\\n",
       "0     647500     48.0            163.07    700.0      36.0      46.60   \n",
       "1      28748    124.6             21.52   4500.0      86.5      15.11   \n",
       "2    2381740     13.8             31.00   6000.0      70.0      17.14   \n",
       "3        199    290.4              9.27   8000.0      97.0      22.46   \n",
       "4        468    152.1              4.05  19000.0     100.0       8.71   \n",
       "..       ...      ...               ...      ...       ...        ...   \n",
       "218   912050     28.2             22.20   4800.0      93.4      18.71   \n",
       "219   329560    256.1             25.95   2500.0      90.3      16.86   \n",
       "224   527970     40.6             61.50    800.0      50.2      42.89   \n",
       "225   752614     15.3             88.29    800.0      80.6      41.00   \n",
       "226   390580     31.3             67.69   1900.0      90.7      28.01   \n",
       "\n",
       "     Deathrate  Difference  \n",
       "0        20.34       26.26  \n",
       "1         5.22        9.89  \n",
       "2         4.61       12.53  \n",
       "3         3.27       19.19  \n",
       "4         6.25        2.46  \n",
       "..         ...         ...  \n",
       "218       4.92       13.79  \n",
       "219       6.22       10.64  \n",
       "224       8.30       34.59  \n",
       "225      19.93       21.07  \n",
       "226      21.84        6.17  \n",
       "\n",
       "[206 rows x 11 columns]"
      ]
     },
     "execution_count": 131,
     "metadata": {},
     "output_type": "execute_result"
    }
   ],
   "source": [
    "countries2['Difference'] = difference\n",
    "countries2"
   ]
  },
  {
   "cell_type": "code",
   "execution_count": 132,
   "metadata": {},
   "outputs": [
    {
     "data": {
      "text/plain": [
       "Country                                         Uganda \n",
       "Region              SUB-SAHARAN AFRICA                 \n",
       "Population                                     28195754\n",
       "Area                                             236040\n",
       "Density                                           119.5\n",
       "Infant_Mortality                                  67.83\n",
       "GDP                                              1400.0\n",
       "Literacy                                           69.9\n",
       "Birthrate                                         47.35\n",
       "Deathrate                                         12.24\n",
       "Difference                                        35.11\n",
       "Name: 210, dtype: object"
      ]
     },
     "execution_count": 132,
     "metadata": {},
     "output_type": "execute_result"
    }
   ],
   "source": [
    "countries2.loc[countries2['Difference'].idxmax()]"
   ]
  },
  {
   "cell_type": "markdown",
   "metadata": {},
   "source": [
    "Uganda has the highest rate of population increase. "
   ]
  },
  {
   "cell_type": "markdown",
   "metadata": {},
   "source": [
    "### Problem 9. \n",
    "Continuing with the difference variable, are there countries with a declining population? Answer the same question for regions."
   ]
  },
  {
   "cell_type": "code",
   "execution_count": 139,
   "metadata": {},
   "outputs": [
    {
     "data": {
      "text/html": [
       "<div>\n",
       "<style scoped>\n",
       "    .dataframe tbody tr th:only-of-type {\n",
       "        vertical-align: middle;\n",
       "    }\n",
       "\n",
       "    .dataframe tbody tr th {\n",
       "        vertical-align: top;\n",
       "    }\n",
       "\n",
       "    .dataframe thead th {\n",
       "        text-align: right;\n",
       "    }\n",
       "</style>\n",
       "<table border=\"1\" class=\"dataframe\">\n",
       "  <thead>\n",
       "    <tr style=\"text-align: right;\">\n",
       "      <th></th>\n",
       "      <th>Country</th>\n",
       "      <th>Region</th>\n",
       "      <th>Population</th>\n",
       "      <th>Area</th>\n",
       "      <th>Density</th>\n",
       "      <th>Infant_Mortality</th>\n",
       "      <th>GDP</th>\n",
       "      <th>Literacy</th>\n",
       "      <th>Birthrate</th>\n",
       "      <th>Deathrate</th>\n",
       "      <th>Difference</th>\n",
       "    </tr>\n",
       "  </thead>\n",
       "  <tbody>\n",
       "    <tr>\n",
       "      <th>26</th>\n",
       "      <td>Botswana</td>\n",
       "      <td>SUB-SAHARAN AFRICA</td>\n",
       "      <td>1639833</td>\n",
       "      <td>600370</td>\n",
       "      <td>2.7</td>\n",
       "      <td>54.58</td>\n",
       "      <td>9000.0</td>\n",
       "      <td>79.8</td>\n",
       "      <td>23.08</td>\n",
       "      <td>29.50</td>\n",
       "      <td>-6.42</td>\n",
       "    </tr>\n",
       "    <tr>\n",
       "      <th>211</th>\n",
       "      <td>Ukraine</td>\n",
       "      <td>C.W. OF IND. STATES</td>\n",
       "      <td>46710816</td>\n",
       "      <td>603700</td>\n",
       "      <td>77.4</td>\n",
       "      <td>20.34</td>\n",
       "      <td>5400.0</td>\n",
       "      <td>99.7</td>\n",
       "      <td>8.82</td>\n",
       "      <td>14.39</td>\n",
       "      <td>-5.57</td>\n",
       "    </tr>\n",
       "    <tr>\n",
       "      <th>169</th>\n",
       "      <td>Russia</td>\n",
       "      <td>C.W. OF IND. STATES</td>\n",
       "      <td>142893540</td>\n",
       "      <td>17075200</td>\n",
       "      <td>8.4</td>\n",
       "      <td>15.39</td>\n",
       "      <td>8900.0</td>\n",
       "      <td>99.6</td>\n",
       "      <td>9.95</td>\n",
       "      <td>14.65</td>\n",
       "      <td>-4.70</td>\n",
       "    </tr>\n",
       "    <tr>\n",
       "      <th>30</th>\n",
       "      <td>Bulgaria</td>\n",
       "      <td>EASTERN EUROPE</td>\n",
       "      <td>7385367</td>\n",
       "      <td>110910</td>\n",
       "      <td>66.6</td>\n",
       "      <td>20.55</td>\n",
       "      <td>7600.0</td>\n",
       "      <td>98.6</td>\n",
       "      <td>9.65</td>\n",
       "      <td>14.27</td>\n",
       "      <td>-4.62</td>\n",
       "    </tr>\n",
       "    <tr>\n",
       "      <th>114</th>\n",
       "      <td>Latvia</td>\n",
       "      <td>BALTICS</td>\n",
       "      <td>2274735</td>\n",
       "      <td>64589</td>\n",
       "      <td>35.2</td>\n",
       "      <td>9.55</td>\n",
       "      <td>10200.0</td>\n",
       "      <td>99.8</td>\n",
       "      <td>9.24</td>\n",
       "      <td>13.66</td>\n",
       "      <td>-4.42</td>\n",
       "    </tr>\n",
       "    <tr>\n",
       "      <th>116</th>\n",
       "      <td>Lesotho</td>\n",
       "      <td>SUB-SAHARAN AFRICA</td>\n",
       "      <td>2022331</td>\n",
       "      <td>30355</td>\n",
       "      <td>66.6</td>\n",
       "      <td>84.23</td>\n",
       "      <td>3000.0</td>\n",
       "      <td>84.8</td>\n",
       "      <td>24.75</td>\n",
       "      <td>28.71</td>\n",
       "      <td>-3.96</td>\n",
       "    </tr>\n",
       "    <tr>\n",
       "      <th>189</th>\n",
       "      <td>South Africa</td>\n",
       "      <td>SUB-SAHARAN AFRICA</td>\n",
       "      <td>44187637</td>\n",
       "      <td>1219912</td>\n",
       "      <td>36.2</td>\n",
       "      <td>61.81</td>\n",
       "      <td>10700.0</td>\n",
       "      <td>86.4</td>\n",
       "      <td>18.20</td>\n",
       "      <td>22.00</td>\n",
       "      <td>-3.80</td>\n",
       "    </tr>\n",
       "    <tr>\n",
       "      <th>138</th>\n",
       "      <td>Monaco</td>\n",
       "      <td>WESTERN EUROPE</td>\n",
       "      <td>32543</td>\n",
       "      <td>2</td>\n",
       "      <td>16271.5</td>\n",
       "      <td>5.43</td>\n",
       "      <td>27000.0</td>\n",
       "      <td>99.0</td>\n",
       "      <td>9.19</td>\n",
       "      <td>12.91</td>\n",
       "      <td>-3.72</td>\n",
       "    </tr>\n",
       "    <tr>\n",
       "      <th>92</th>\n",
       "      <td>Hungary</td>\n",
       "      <td>EASTERN EUROPE</td>\n",
       "      <td>9981334</td>\n",
       "      <td>93030</td>\n",
       "      <td>107.3</td>\n",
       "      <td>8.57</td>\n",
       "      <td>13900.0</td>\n",
       "      <td>99.4</td>\n",
       "      <td>9.72</td>\n",
       "      <td>13.11</td>\n",
       "      <td>-3.39</td>\n",
       "    </tr>\n",
       "    <tr>\n",
       "      <th>64</th>\n",
       "      <td>Estonia</td>\n",
       "      <td>BALTICS</td>\n",
       "      <td>1324333</td>\n",
       "      <td>45226</td>\n",
       "      <td>29.3</td>\n",
       "      <td>7.87</td>\n",
       "      <td>12300.0</td>\n",
       "      <td>99.8</td>\n",
       "      <td>10.04</td>\n",
       "      <td>13.25</td>\n",
       "      <td>-3.21</td>\n",
       "    </tr>\n",
       "  </tbody>\n",
       "</table>\n",
       "</div>"
      ],
      "text/plain": [
       "           Country                               Region  Population      Area  \\\n",
       "26       Botswana   SUB-SAHARAN AFRICA                      1639833    600370   \n",
       "211       Ukraine                  C.W. OF IND. STATES     46710816    603700   \n",
       "169        Russia                  C.W. OF IND. STATES    142893540  17075200   \n",
       "30       Bulgaria   EASTERN EUROPE                          7385367    110910   \n",
       "114        Latvia   BALTICS                                 2274735     64589   \n",
       "116       Lesotho   SUB-SAHARAN AFRICA                      2022331     30355   \n",
       "189  South Africa   SUB-SAHARAN AFRICA                     44187637   1219912   \n",
       "138        Monaco   WESTERN EUROPE                            32543         2   \n",
       "92        Hungary   EASTERN EUROPE                          9981334     93030   \n",
       "64        Estonia   BALTICS                                 1324333     45226   \n",
       "\n",
       "     Density  Infant_Mortality      GDP  Literacy  Birthrate  Deathrate  \\\n",
       "26       2.7             54.58   9000.0      79.8      23.08      29.50   \n",
       "211     77.4             20.34   5400.0      99.7       8.82      14.39   \n",
       "169      8.4             15.39   8900.0      99.6       9.95      14.65   \n",
       "30      66.6             20.55   7600.0      98.6       9.65      14.27   \n",
       "114     35.2              9.55  10200.0      99.8       9.24      13.66   \n",
       "116     66.6             84.23   3000.0      84.8      24.75      28.71   \n",
       "189     36.2             61.81  10700.0      86.4      18.20      22.00   \n",
       "138  16271.5              5.43  27000.0      99.0       9.19      12.91   \n",
       "92     107.3              8.57  13900.0      99.4       9.72      13.11   \n",
       "64      29.3              7.87  12300.0      99.8      10.04      13.25   \n",
       "\n",
       "     Difference  \n",
       "26        -6.42  \n",
       "211       -5.57  \n",
       "169       -4.70  \n",
       "30        -4.62  \n",
       "114       -4.42  \n",
       "116       -3.96  \n",
       "189       -3.80  \n",
       "138       -3.72  \n",
       "92        -3.39  \n",
       "64        -3.21  "
      ]
     },
     "execution_count": 139,
     "metadata": {},
     "output_type": "execute_result"
    }
   ],
   "source": [
    "countries2.nsmallest(10, 'Difference')"
   ]
  },
  {
   "cell_type": "markdown",
   "metadata": {},
   "source": [
    "Some countries with declining population are Ukraine, Russia, Bulgaria, Latvia, Lesotho, South Africa, etc."
   ]
  },
  {
   "cell_type": "code",
   "execution_count": 138,
   "metadata": {},
   "outputs": [
    {
     "data": {
      "text/plain": [
       "Region\n",
       "ASIA (EX. NEAR EAST)                   13.520714\n",
       "BALTICS                                -3.286667\n",
       "C.W. OF IND. STATES                     7.514167\n",
       "EASTERN EUROPE                         -0.500000\n",
       "LATIN AMER. & CARIB                    12.822727\n",
       "NEAR EAST                              18.582857\n",
       "NORTHERN AFRICA                        16.008000\n",
       "NORTHERN AMERICA                        4.802500\n",
       "OCEANIA                                15.276667\n",
       "SUB-SAHARAN AFRICA                     20.636600\n",
       "WESTERN EUROPE                          1.222174\n",
       "Name: Difference, dtype: float64"
      ]
     },
     "execution_count": 138,
     "metadata": {},
     "output_type": "execute_result"
    }
   ],
   "source": [
    "countries2.groupby(['Region'])['Difference'].mean()"
   ]
  },
  {
   "cell_type": "markdown",
   "metadata": {},
   "source": [
    "Regions with declining population are the Baltics and Eastern Europe."
   ]
  },
  {
   "cell_type": "markdown",
   "metadata": {},
   "source": [
    "### Problem 10. \n",
    "(a) Create a bar chart for the Class column with Class labels in the x-axis and the number of countries in the y-axis. (b) Create a pie chart for the Class column. (c) Create a kernel density chart. Observe and comment on the graphs."
   ]
  }
 ],
 "metadata": {
  "kernelspec": {
   "display_name": "Python 3",
   "language": "python",
   "name": "python3"
  },
  "language_info": {
   "codemirror_mode": {
    "name": "ipython",
    "version": 3
   },
   "file_extension": ".py",
   "mimetype": "text/x-python",
   "name": "python",
   "nbconvert_exporter": "python",
   "pygments_lexer": "ipython3",
   "version": "3.8.8"
  }
 },
 "nbformat": 4,
 "nbformat_minor": 2
}
