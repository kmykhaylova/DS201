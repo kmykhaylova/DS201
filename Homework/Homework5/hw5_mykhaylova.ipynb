{
 "cells": [
  {
   "cell_type": "markdown",
   "metadata": {},
   "source": [
    "Each problem is worth 25 points. Problem 1 and 2 are graded based on the test set accuracy of your best model."
   ]
  },
  {
   "cell_type": "markdown",
   "metadata": {},
   "source": [
    "### Problem 1   \n",
    "Use the newspam data attached. After cleaning, doing variable selection (by various methods of your choice), divide the data into testing and training with 80, 20 rule. Make  Logistic Regression, Decision Tree, and Random Forest Models (pick your own number of estimators) to classify the last column with 0s and 1s ( mean spam and ham, respectively). Report the accuracies for all three models, both for testing and training. Which model is the winner?"
   ]
  },
  {
   "cell_type": "code",
   "execution_count": 296,
   "metadata": {},
   "outputs": [],
   "source": [
    "import numpy as np\n",
    "import pandas as pd\n",
    "import matplotlib.pyplot as plt\n",
    "import statsmodels.api as sm\n",
    "from sklearn import metrics\n",
    "from sklearn import tree\n",
    "from sklearn import model_selection as modsel\n",
    "from sklearn.linear_model import LogisticRegression\n",
    "from sklearn.tree import DecisionTreeClassifier, plot_tree\n",
    "from sklearn.ensemble import RandomForestClassifier\n",
    "from sklearn.metrics import confusion_matrix\n",
    "from sklearn.cluster import KMeans as km\n",
    "from sklearn.metrics import plot_roc_curve as prc\n",
    "import seaborn as sns\n",
    "from sklearn.model_selection import train_test_split\n",
    "spam = pd.read_csv('newspam.csv')"
   ]
  },
  {
   "cell_type": "code",
   "execution_count": 297,
   "metadata": {},
   "outputs": [
    {
     "data": {
      "text/html": [
       "<div>\n",
       "<style scoped>\n",
       "    .dataframe tbody tr th:only-of-type {\n",
       "        vertical-align: middle;\n",
       "    }\n",
       "\n",
       "    .dataframe tbody tr th {\n",
       "        vertical-align: top;\n",
       "    }\n",
       "\n",
       "    .dataframe thead th {\n",
       "        text-align: right;\n",
       "    }\n",
       "</style>\n",
       "<table border=\"1\" class=\"dataframe\">\n",
       "  <thead>\n",
       "    <tr style=\"text-align: right;\">\n",
       "      <th></th>\n",
       "      <th>x1</th>\n",
       "      <th>x2</th>\n",
       "      <th>x3</th>\n",
       "      <th>x4</th>\n",
       "      <th>x5</th>\n",
       "      <th>x6</th>\n",
       "      <th>x7</th>\n",
       "      <th>x8</th>\n",
       "      <th>x9</th>\n",
       "      <th>x10</th>\n",
       "      <th>x11</th>\n",
       "      <th>x12</th>\n",
       "      <th>outcome</th>\n",
       "    </tr>\n",
       "  </thead>\n",
       "  <tbody>\n",
       "    <tr>\n",
       "      <th>0</th>\n",
       "      <td>0.96</td>\n",
       "      <td>0.00</td>\n",
       "      <td>0.00</td>\n",
       "      <td>0.000</td>\n",
       "      <td>1.93</td>\n",
       "      <td>0.32</td>\n",
       "      <td>0.00</td>\n",
       "      <td>0.0</td>\n",
       "      <td>278</td>\n",
       "      <td>0.32</td>\n",
       "      <td>0.778</td>\n",
       "      <td>0.00</td>\n",
       "      <td>1</td>\n",
       "    </tr>\n",
       "    <tr>\n",
       "      <th>1</th>\n",
       "      <td>1.59</td>\n",
       "      <td>0.43</td>\n",
       "      <td>0.21</td>\n",
       "      <td>0.180</td>\n",
       "      <td>3.47</td>\n",
       "      <td>0.14</td>\n",
       "      <td>0.07</td>\n",
       "      <td>0.0</td>\n",
       "      <td>1028</td>\n",
       "      <td>0.14</td>\n",
       "      <td>0.372</td>\n",
       "      <td>0.21</td>\n",
       "      <td>1</td>\n",
       "    </tr>\n",
       "    <tr>\n",
       "      <th>2</th>\n",
       "      <td>0.51</td>\n",
       "      <td>1.16</td>\n",
       "      <td>0.19</td>\n",
       "      <td>0.184</td>\n",
       "      <td>1.36</td>\n",
       "      <td>0.06</td>\n",
       "      <td>0.06</td>\n",
       "      <td>0.0</td>\n",
       "      <td>2259</td>\n",
       "      <td>1.23</td>\n",
       "      <td>0.276</td>\n",
       "      <td>0.38</td>\n",
       "      <td>1</td>\n",
       "    </tr>\n",
       "    <tr>\n",
       "      <th>3</th>\n",
       "      <td>0.31</td>\n",
       "      <td>0.00</td>\n",
       "      <td>0.31</td>\n",
       "      <td>0.000</td>\n",
       "      <td>3.18</td>\n",
       "      <td>0.31</td>\n",
       "      <td>0.00</td>\n",
       "      <td>0.0</td>\n",
       "      <td>191</td>\n",
       "      <td>0.63</td>\n",
       "      <td>0.137</td>\n",
       "      <td>0.31</td>\n",
       "      <td>1</td>\n",
       "    </tr>\n",
       "    <tr>\n",
       "      <th>4</th>\n",
       "      <td>0.31</td>\n",
       "      <td>0.00</td>\n",
       "      <td>0.31</td>\n",
       "      <td>0.000</td>\n",
       "      <td>3.18</td>\n",
       "      <td>0.31</td>\n",
       "      <td>0.00</td>\n",
       "      <td>0.0</td>\n",
       "      <td>191</td>\n",
       "      <td>0.63</td>\n",
       "      <td>0.135</td>\n",
       "      <td>0.31</td>\n",
       "      <td>1</td>\n",
       "    </tr>\n",
       "  </tbody>\n",
       "</table>\n",
       "</div>"
      ],
      "text/plain": [
       "     x1    x2    x3     x4    x5    x6    x7   x8    x9   x10    x11   x12  \\\n",
       "0  0.96  0.00  0.00  0.000  1.93  0.32  0.00  0.0   278  0.32  0.778  0.00   \n",
       "1  1.59  0.43  0.21  0.180  3.47  0.14  0.07  0.0  1028  0.14  0.372  0.21   \n",
       "2  0.51  1.16  0.19  0.184  1.36  0.06  0.06  0.0  2259  1.23  0.276  0.38   \n",
       "3  0.31  0.00  0.31  0.000  3.18  0.31  0.00  0.0   191  0.63  0.137  0.31   \n",
       "4  0.31  0.00  0.31  0.000  3.18  0.31  0.00  0.0   191  0.63  0.135  0.31   \n",
       "\n",
       "   outcome  \n",
       "0        1  \n",
       "1        1  \n",
       "2        1  \n",
       "3        1  \n",
       "4        1  "
      ]
     },
     "execution_count": 297,
     "metadata": {},
     "output_type": "execute_result"
    }
   ],
   "source": [
    "spam.head()"
   ]
  },
  {
   "cell_type": "code",
   "execution_count": 298,
   "metadata": {},
   "outputs": [],
   "source": [
    "y = spam['outcome']\n",
    "x = spam[['x1', 'x2', 'x3', 'x4', 'x5', 'x6', 'x7', 'x8']]\n",
    "x = sm.add_constant(x)\n",
    "xtrain, xtest, ytrain, ytest = train_test_split(x, y, test_size = 0.2, random_state = 17)"
   ]
  },
  {
   "cell_type": "code",
   "execution_count": 299,
   "metadata": {},
   "outputs": [],
   "source": [
    "#Logistic Regression"
   ]
  },
  {
   "cell_type": "code",
   "execution_count": 300,
   "metadata": {},
   "outputs": [],
   "source": [
    "model = sm.OLS(ytrain, sm.add_constant(xtrain)).fit()"
   ]
  },
  {
   "cell_type": "code",
   "execution_count": 301,
   "metadata": {},
   "outputs": [
    {
     "name": "stdout",
     "output_type": "stream",
     "text": [
      "Optimization terminated successfully.\n",
      "         Current function value: 0.327323\n",
      "         Iterations 10\n"
     ]
    },
    {
     "data": {
      "text/html": [
       "<table class=\"simpletable\">\n",
       "<caption>Logit Regression Results</caption>\n",
       "<tr>\n",
       "  <th>Dep. Variable:</th>        <td>outcome</td>     <th>  No. Observations:  </th>  <td>  4601</td> \n",
       "</tr>\n",
       "<tr>\n",
       "  <th>Model:</th>                 <td>Logit</td>      <th>  Df Residuals:      </th>  <td>  4592</td> \n",
       "</tr>\n",
       "<tr>\n",
       "  <th>Method:</th>                 <td>MLE</td>       <th>  Df Model:          </th>  <td>     8</td> \n",
       "</tr>\n",
       "<tr>\n",
       "  <th>Date:</th>            <td>Tue, 16 Nov 2021</td> <th>  Pseudo R-squ.:     </th>  <td>0.5118</td> \n",
       "</tr>\n",
       "<tr>\n",
       "  <th>Time:</th>                <td>16:55:03</td>     <th>  Log-Likelihood:    </th> <td> -1506.0</td>\n",
       "</tr>\n",
       "<tr>\n",
       "  <th>converged:</th>             <td>True</td>       <th>  LL-Null:           </th> <td> -3085.1</td>\n",
       "</tr>\n",
       "<tr>\n",
       "  <th>Covariance Type:</th>     <td>nonrobust</td>    <th>  LLR p-value:       </th>  <td> 0.000</td> \n",
       "</tr>\n",
       "</table>\n",
       "<table class=\"simpletable\">\n",
       "<tr>\n",
       "    <td></td>       <th>coef</th>     <th>std err</th>      <th>z</th>      <th>P>|z|</th>  <th>[0.025</th>    <th>0.975]</th>  \n",
       "</tr>\n",
       "<tr>\n",
       "  <th>const</th> <td>   -1.7761</td> <td>    0.073</td> <td>  -24.389</td> <td> 0.000</td> <td>   -1.919</td> <td>   -1.633</td>\n",
       "</tr>\n",
       "<tr>\n",
       "  <th>x1</th>    <td>    0.3100</td> <td>    0.037</td> <td>    8.477</td> <td> 0.000</td> <td>    0.238</td> <td>    0.382</td>\n",
       "</tr>\n",
       "<tr>\n",
       "  <th>x2</th>    <td>    4.4310</td> <td>    0.540</td> <td>    8.207</td> <td> 0.000</td> <td>    3.373</td> <td>    5.489</td>\n",
       "</tr>\n",
       "<tr>\n",
       "  <th>x3</th>    <td>    4.1263</td> <td>    0.375</td> <td>   11.010</td> <td> 0.000</td> <td>    3.392</td> <td>    4.861</td>\n",
       "</tr>\n",
       "<tr>\n",
       "  <th>x4</th>    <td>    8.2135</td> <td>    0.663</td> <td>   12.381</td> <td> 0.000</td> <td>    6.913</td> <td>    9.514</td>\n",
       "</tr>\n",
       "<tr>\n",
       "  <th>x5</th>    <td>    0.0930</td> <td>    0.024</td> <td>    3.895</td> <td> 0.000</td> <td>    0.046</td> <td>    0.140</td>\n",
       "</tr>\n",
       "<tr>\n",
       "  <th>x6</th>    <td>    0.8819</td> <td>    0.092</td> <td>    9.627</td> <td> 0.000</td> <td>    0.702</td> <td>    1.061</td>\n",
       "</tr>\n",
       "<tr>\n",
       "  <th>x7</th>    <td>    1.5662</td> <td>    0.186</td> <td>    8.426</td> <td> 0.000</td> <td>    1.202</td> <td>    1.931</td>\n",
       "</tr>\n",
       "<tr>\n",
       "  <th>x8</th>    <td>   -2.4552</td> <td>    0.243</td> <td>  -10.120</td> <td> 0.000</td> <td>   -2.931</td> <td>   -1.980</td>\n",
       "</tr>\n",
       "</table>"
      ],
      "text/plain": [
       "<class 'statsmodels.iolib.summary.Summary'>\n",
       "\"\"\"\n",
       "                           Logit Regression Results                           \n",
       "==============================================================================\n",
       "Dep. Variable:                outcome   No. Observations:                 4601\n",
       "Model:                          Logit   Df Residuals:                     4592\n",
       "Method:                           MLE   Df Model:                            8\n",
       "Date:                Tue, 16 Nov 2021   Pseudo R-squ.:                  0.5118\n",
       "Time:                        16:55:03   Log-Likelihood:                -1506.0\n",
       "converged:                       True   LL-Null:                       -3085.1\n",
       "Covariance Type:            nonrobust   LLR p-value:                     0.000\n",
       "==============================================================================\n",
       "                 coef    std err          z      P>|z|      [0.025      0.975]\n",
       "------------------------------------------------------------------------------\n",
       "const         -1.7761      0.073    -24.389      0.000      -1.919      -1.633\n",
       "x1             0.3100      0.037      8.477      0.000       0.238       0.382\n",
       "x2             4.4310      0.540      8.207      0.000       3.373       5.489\n",
       "x3             4.1263      0.375     11.010      0.000       3.392       4.861\n",
       "x4             8.2135      0.663     12.381      0.000       6.913       9.514\n",
       "x5             0.0930      0.024      3.895      0.000       0.046       0.140\n",
       "x6             0.8819      0.092      9.627      0.000       0.702       1.061\n",
       "x7             1.5662      0.186      8.426      0.000       1.202       1.931\n",
       "x8            -2.4552      0.243    -10.120      0.000      -2.931      -1.980\n",
       "==============================================================================\n",
       "\"\"\""
      ]
     },
     "execution_count": 301,
     "metadata": {},
     "output_type": "execute_result"
    }
   ],
   "source": [
    "logit = sm.Logit(y, sm.add_constant(x), method = 'kwargs')\n",
    "result = logit.fit()\n",
    "result.summary()"
   ]
  },
  {
   "cell_type": "code",
   "execution_count": 302,
   "metadata": {},
   "outputs": [],
   "source": [
    "model = sm.OLS(ytest, sm.add_constant(xtest)).fit()"
   ]
  },
  {
   "cell_type": "code",
   "execution_count": 303,
   "metadata": {},
   "outputs": [
    {
     "name": "stdout",
     "output_type": "stream",
     "text": [
      "Optimization terminated successfully.\n",
      "         Current function value: 0.306313\n",
      "         Iterations 12\n"
     ]
    },
    {
     "data": {
      "text/html": [
       "<table class=\"simpletable\">\n",
       "<caption>Logit Regression Results</caption>\n",
       "<tr>\n",
       "  <th>Dep. Variable:</th>        <td>outcome</td>     <th>  No. Observations:  </th>   <td>   921</td>  \n",
       "</tr>\n",
       "<tr>\n",
       "  <th>Model:</th>                 <td>Logit</td>      <th>  Df Residuals:      </th>   <td>   912</td>  \n",
       "</tr>\n",
       "<tr>\n",
       "  <th>Method:</th>                 <td>MLE</td>       <th>  Df Model:          </th>   <td>     8</td>  \n",
       "</tr>\n",
       "<tr>\n",
       "  <th>Date:</th>            <td>Tue, 16 Nov 2021</td> <th>  Pseudo R-squ.:     </th>   <td>0.5465</td>  \n",
       "</tr>\n",
       "<tr>\n",
       "  <th>Time:</th>                <td>16:55:06</td>     <th>  Log-Likelihood:    </th>  <td> -282.11</td> \n",
       "</tr>\n",
       "<tr>\n",
       "  <th>converged:</th>             <td>True</td>       <th>  LL-Null:           </th>  <td> -622.04</td> \n",
       "</tr>\n",
       "<tr>\n",
       "  <th>Covariance Type:</th>     <td>nonrobust</td>    <th>  LLR p-value:       </th> <td>1.550e-141</td>\n",
       "</tr>\n",
       "</table>\n",
       "<table class=\"simpletable\">\n",
       "<tr>\n",
       "    <td></td>       <th>coef</th>     <th>std err</th>      <th>z</th>      <th>P>|z|</th>  <th>[0.025</th>    <th>0.975]</th>  \n",
       "</tr>\n",
       "<tr>\n",
       "  <th>const</th> <td>   -1.7049</td> <td>    0.165</td> <td>  -10.349</td> <td> 0.000</td> <td>   -2.028</td> <td>   -1.382</td>\n",
       "</tr>\n",
       "<tr>\n",
       "  <th>x1</th>    <td>    0.2428</td> <td>    0.084</td> <td>    2.875</td> <td> 0.004</td> <td>    0.077</td> <td>    0.408</td>\n",
       "</tr>\n",
       "<tr>\n",
       "  <th>x2</th>    <td>    2.2350</td> <td>    0.678</td> <td>    3.296</td> <td> 0.001</td> <td>    0.906</td> <td>    3.564</td>\n",
       "</tr>\n",
       "<tr>\n",
       "  <th>x3</th>    <td>    5.3967</td> <td>    1.155</td> <td>    4.673</td> <td> 0.000</td> <td>    3.133</td> <td>    7.660</td>\n",
       "</tr>\n",
       "<tr>\n",
       "  <th>x4</th>    <td>   12.5056</td> <td>    2.165</td> <td>    5.775</td> <td> 0.000</td> <td>    8.261</td> <td>   16.750</td>\n",
       "</tr>\n",
       "<tr>\n",
       "  <th>x5</th>    <td>    0.0884</td> <td>    0.054</td> <td>    1.627</td> <td> 0.104</td> <td>   -0.018</td> <td>    0.195</td>\n",
       "</tr>\n",
       "<tr>\n",
       "  <th>x6</th>    <td>    1.1197</td> <td>    0.263</td> <td>    4.251</td> <td> 0.000</td> <td>    0.603</td> <td>    1.636</td>\n",
       "</tr>\n",
       "<tr>\n",
       "  <th>x7</th>    <td>    1.8114</td> <td>    0.453</td> <td>    3.999</td> <td> 0.000</td> <td>    0.924</td> <td>    2.699</td>\n",
       "</tr>\n",
       "<tr>\n",
       "  <th>x8</th>    <td>   -5.4592</td> <td>    1.360</td> <td>   -4.015</td> <td> 0.000</td> <td>   -8.124</td> <td>   -2.794</td>\n",
       "</tr>\n",
       "</table><br/><br/>Possibly complete quasi-separation: A fraction 0.18 of observations can be<br/>perfectly predicted. This might indicate that there is complete<br/>quasi-separation. In this case some parameters will not be identified."
      ],
      "text/plain": [
       "<class 'statsmodels.iolib.summary.Summary'>\n",
       "\"\"\"\n",
       "                           Logit Regression Results                           \n",
       "==============================================================================\n",
       "Dep. Variable:                outcome   No. Observations:                  921\n",
       "Model:                          Logit   Df Residuals:                      912\n",
       "Method:                           MLE   Df Model:                            8\n",
       "Date:                Tue, 16 Nov 2021   Pseudo R-squ.:                  0.5465\n",
       "Time:                        16:55:06   Log-Likelihood:                -282.11\n",
       "converged:                       True   LL-Null:                       -622.04\n",
       "Covariance Type:            nonrobust   LLR p-value:                1.550e-141\n",
       "==============================================================================\n",
       "                 coef    std err          z      P>|z|      [0.025      0.975]\n",
       "------------------------------------------------------------------------------\n",
       "const         -1.7049      0.165    -10.349      0.000      -2.028      -1.382\n",
       "x1             0.2428      0.084      2.875      0.004       0.077       0.408\n",
       "x2             2.2350      0.678      3.296      0.001       0.906       3.564\n",
       "x3             5.3967      1.155      4.673      0.000       3.133       7.660\n",
       "x4            12.5056      2.165      5.775      0.000       8.261      16.750\n",
       "x5             0.0884      0.054      1.627      0.104      -0.018       0.195\n",
       "x6             1.1197      0.263      4.251      0.000       0.603       1.636\n",
       "x7             1.8114      0.453      3.999      0.000       0.924       2.699\n",
       "x8            -5.4592      1.360     -4.015      0.000      -8.124      -2.794\n",
       "==============================================================================\n",
       "\n",
       "Possibly complete quasi-separation: A fraction 0.18 of observations can be\n",
       "perfectly predicted. This might indicate that there is complete\n",
       "quasi-separation. In this case some parameters will not be identified.\n",
       "\"\"\""
      ]
     },
     "execution_count": 303,
     "metadata": {},
     "output_type": "execute_result"
    }
   ],
   "source": [
    "logit = sm.Logit(ytest, sm.add_constant(xtest), method = 'kwargs')\n",
    "result = logit.fit()\n",
    "result.summary()"
   ]
  },
  {
   "cell_type": "code",
   "execution_count": 304,
   "metadata": {},
   "outputs": [],
   "source": [
    "ytrainpred = result.predict(xtrain)\n",
    "ytestpred = result.predict(xtest)"
   ]
  },
  {
   "cell_type": "code",
   "execution_count": 305,
   "metadata": {},
   "outputs": [
    {
     "data": {
      "text/plain": [
       "0.8790760869565217"
      ]
     },
     "execution_count": 305,
     "metadata": {},
     "output_type": "execute_result"
    }
   ],
   "source": [
    "metrics.accuracy_score(ytrain, round(ytrainpred))"
   ]
  },
  {
   "cell_type": "code",
   "execution_count": 306,
   "metadata": {},
   "outputs": [
    {
     "data": {
      "text/plain": [
       "0.8773072747014115"
      ]
     },
     "execution_count": 306,
     "metadata": {},
     "output_type": "execute_result"
    }
   ],
   "source": [
    "metrics.accuracy_score(ytest, round(ytestpred))"
   ]
  },
  {
   "cell_type": "code",
   "execution_count": 307,
   "metadata": {},
   "outputs": [],
   "source": [
    "#Decision Tree"
   ]
  },
  {
   "cell_type": "code",
   "execution_count": 308,
   "metadata": {},
   "outputs": [
    {
     "data": {
      "text/plain": [
       "DecisionTreeClassifier()"
      ]
     },
     "execution_count": 308,
     "metadata": {},
     "output_type": "execute_result"
    }
   ],
   "source": [
    "cart = DecisionTreeClassifier()\n",
    "cart.fit(xtrain, ytrain)"
   ]
  },
  {
   "cell_type": "code",
   "execution_count": 309,
   "metadata": {},
   "outputs": [],
   "source": [
    "from sklearn import tree\n",
    "tree = tree.export_text(cart)"
   ]
  },
  {
   "cell_type": "code",
   "execution_count": 310,
   "metadata": {},
   "outputs": [
    {
     "data": {
      "image/png": "[encoded data removed]",
      "text/plain": [
       "<Figure size 432x288 with 1 Axes>"
      ]
     },
     "metadata": {
      "needs_background": "light"
     },
     "output_type": "display_data"
    },
    {
     "data": {
      "text/plain": [
       "<Figure size 7200x7200 with 0 Axes>"
      ]
     },
     "metadata": {},
     "output_type": "display_data"
    }
   ],
   "source": [
    "from sklearn import tree\n",
    "tree.plot_tree(cart)\n",
    "plt.figure(figsize = (100, 100))\n",
    "plt.show()"
   ]
  },
  {
   "cell_type": "code",
   "execution_count": 311,
   "metadata": {},
   "outputs": [],
   "source": [
    "ytrainpred2 = cart.predict(xtrain)\n",
    "ytestpred2 = cart.predict(xtest)"
   ]
  },
  {
   "cell_type": "code",
   "execution_count": 312,
   "metadata": {},
   "outputs": [
    {
     "data": {
      "text/plain": [
       "0.9771739130434782"
      ]
     },
     "execution_count": 312,
     "metadata": {},
     "output_type": "execute_result"
    }
   ],
   "source": [
    "metrics.accuracy_score(ytrain, ytrainpred2)"
   ]
  },
  {
   "cell_type": "code",
   "execution_count": 313,
   "metadata": {},
   "outputs": [
    {
     "data": {
      "text/plain": [
       "0.8914223669923995"
      ]
     },
     "execution_count": 313,
     "metadata": {},
     "output_type": "execute_result"
    }
   ],
   "source": [
    "metrics.accuracy_score(ytest, ytestpred2)"
   ]
  },
  {
   "cell_type": "code",
   "execution_count": 314,
   "metadata": {},
   "outputs": [],
   "source": [
    "#Random Forest"
   ]
  },
  {
   "cell_type": "code",
   "execution_count": 315,
   "metadata": {},
   "outputs": [],
   "source": [
    "rfmodel = RandomForestClassifier(n_estimators = 50, bootstrap = True)\n",
    "rfmodel = rfmodel.fit(xtrain, ytrain)"
   ]
  },
  {
   "cell_type": "code",
   "execution_count": 316,
   "metadata": {},
   "outputs": [],
   "source": [
    "ytrainpred3 = rfmodel.predict(xtrain)\n",
    "ytestpred3 = rfmodel.predict(xtest)"
   ]
  },
  {
   "cell_type": "code",
   "execution_count": 317,
   "metadata": {},
   "outputs": [
    {
     "data": {
      "image/png": "[encoded data removed]",
      "text/plain": [
       "<Figure size 432x288 with 1 Axes>"
      ]
     },
     "metadata": {
      "needs_background": "light"
     },
     "output_type": "display_data"
    },
    {
     "data": {
      "text/plain": [
       "<Figure size 7200x7200 with 0 Axes>"
      ]
     },
     "metadata": {},
     "output_type": "display_data"
    }
   ],
   "source": [
    "rand = rfmodel.estimators_[0]\n",
    "plot_tree(rand)\n",
    "plt.figure(figsize = (100, 100))\n",
    "plt.show()"
   ]
  },
  {
   "cell_type": "code",
   "execution_count": 318,
   "metadata": {},
   "outputs": [
    {
     "data": {
      "text/plain": [
       "0.9769021739130435"
      ]
     },
     "execution_count": 318,
     "metadata": {},
     "output_type": "execute_result"
    }
   ],
   "source": [
    "metrics.accuracy_score(ytrain, ytrainpred3)"
   ]
  },
  {
   "cell_type": "code",
   "execution_count": 319,
   "metadata": {},
   "outputs": [
    {
     "data": {
      "text/plain": [
       "0.9174809989142236"
      ]
     },
     "execution_count": 319,
     "metadata": {},
     "output_type": "execute_result"
    }
   ],
   "source": [
    "metrics.accuracy_score(ytest, ytestpred3)"
   ]
  },
  {
   "cell_type": "markdown",
   "metadata": {},
   "source": [
    "The model with the highest accuracies is the Random Forest Model."
   ]
  },
  {
   "cell_type": "markdown",
   "metadata": {},
   "source": [
    "### Problem 2 \n",
    "Continuing with the three models from problem 1, plot the ROC curve for the training and testing both in a graph for each model. This means that you will have to make three plots. Then find the AUC score for the testing and pick the best model you have."
   ]
  },
  {
   "cell_type": "code",
   "execution_count": 320,
   "metadata": {},
   "outputs": [
    {
     "data": {
      "image/png": "[encoded data removed]",
      "text/plain": [
       "<Figure size 432x288 with 1 Axes>"
      ]
     },
     "metadata": {
      "needs_background": "light"
     },
     "output_type": "display_data"
    }
   ],
   "source": [
    "fpr, tpr, thresholds = metrics.roc_curve(ytrain, ytrainpred)\n",
    "fpr1, tpr1, thresholds1 = metrics.roc_curve(ytest, ytestpred)\n",
    "plt.plot(fpr, tpr)\n",
    "plt.plot(fpr1, tpr1)\n",
    "plt.title(\"ROC curve for Logistic Regression\")\n",
    "plt.ylabel(\"True Positive Rate\")\n",
    "plt.xlabel(\"False Positive Rate\")\n",
    "plt.show()"
   ]
  },
  {
   "cell_type": "code",
   "execution_count": 321,
   "metadata": {},
   "outputs": [
    {
     "data": {
      "text/plain": [
       "0.9493151756298331"
      ]
     },
     "execution_count": 321,
     "metadata": {},
     "output_type": "execute_result"
    }
   ],
   "source": [
    "metrics.roc_auc_score(ytest, ytestpred)"
   ]
  },
  {
   "cell_type": "code",
   "execution_count": 322,
   "metadata": {},
   "outputs": [
    {
     "data": {
      "image/png": "[encoded data removed]",
      "text/plain": [
       "<Figure size 432x288 with 1 Axes>"
      ]
     },
     "metadata": {
      "needs_background": "light"
     },
     "output_type": "display_data"
    }
   ],
   "source": [
    "fpr2, tpr2, thresholds2 = metrics.roc_curve(ytrain, ytrainpred2)\n",
    "fpr3, tpr3, thresholds3 = metrics.roc_curve(ytest, ytestpred2)\n",
    "plt.plot(fpr2, tpr2)\n",
    "plt.plot(fpr3, tpr3)\n",
    "plt.title(\"ROC curve for Decision Tree\")\n",
    "plt.ylabel(\"True Positive Rate\")\n",
    "plt.xlabel(\"False Positive Rate\")\n",
    "plt.show()"
   ]
  },
  {
   "cell_type": "code",
   "execution_count": 323,
   "metadata": {},
   "outputs": [
    {
     "data": {
      "text/plain": [
       "0.8815317385056067"
      ]
     },
     "execution_count": 323,
     "metadata": {},
     "output_type": "execute_result"
    }
   ],
   "source": [
    "metrics.roc_auc_score(ytest, ytestpred2)"
   ]
  },
  {
   "cell_type": "code",
   "execution_count": 324,
   "metadata": {},
   "outputs": [
    {
     "data": {
      "image/png": "[encoded data removed]",
      "text/plain": [
       "<Figure size 432x288 with 1 Axes>"
      ]
     },
     "metadata": {
      "needs_background": "light"
     },
     "output_type": "display_data"
    }
   ],
   "source": [
    "fpr4, tpr4, thresholds4 = metrics.roc_curve(ytrain, ytrainpred3)\n",
    "fpr5, tpr5, thresholds5 = metrics.roc_curve(ytest, ytestpred3)\n",
    "plt.plot(fpr4, tpr4)\n",
    "plt.plot(fpr5, tpr5)\n",
    "plt.title(\"ROC curve for Random Forest Model\")\n",
    "plt.ylabel(\"True Positive Rate\")\n",
    "plt.xlabel(\"False Positive Rate\")\n",
    "plt.show()"
   ]
  },
  {
   "cell_type": "code",
   "execution_count": 325,
   "metadata": {},
   "outputs": [
    {
     "data": {
      "text/plain": [
       "0.9123488351631163"
      ]
     },
     "execution_count": 325,
     "metadata": {},
     "output_type": "execute_result"
    }
   ],
   "source": [
    "metrics.roc_auc_score(ytest, ytestpred3)"
   ]
  },
  {
   "cell_type": "markdown",
   "metadata": {},
   "source": [
    "The best model is the Logistic Regression since the accuracy score of the testing is the highest."
   ]
  },
  {
   "cell_type": "markdown",
   "metadata": {},
   "source": [
    "### Problme 3\n",
    "Use the original data (after removing null values, if any) but only the variables you selected to use in problem 1. Remove the last column ( dependent variable) with 0s and 1s as you will be using the clustering algorithm here. Train a KMeans clustering model in this problem (no need to split in test and train) and find 4 clusters. The clustering algorithm finds clusters, and you do not need to worry about the accuracy score here (needs more advanced concepts). Find a pair of variables ( x and y) among the ones you used for the KMeans model and plot 4 clusters with four different colors. Try various x and y  before settling on a graph that clearly shows 4 clusters on the graph.  Here is reference material on KMeans from one of the reference textbooks we use. https://jakevdp.github.io/PythonDataScienceHandbook/05.11-k-means.html"
   ]
  },
  {
   "cell_type": "code",
   "execution_count": 326,
   "metadata": {},
   "outputs": [],
   "source": [
    "spam1 = spam[['x1', 'x2', 'x3', 'x4', 'x5', 'x6', 'x7', 'x8']]"
   ]
  },
  {
   "cell_type": "code",
   "execution_count": 327,
   "metadata": {},
   "outputs": [],
   "source": [
    "x = spam1[['x1', 'x2', 'x3', 'x4', 'x5', 'x6', 'x7', 'x8']]"
   ]
  },
  {
   "cell_type": "code",
   "execution_count": 328,
   "metadata": {},
   "outputs": [],
   "source": [
    "kmeans = km(n_clusters = 4)\n",
    "kmeans.fit(x)\n",
    "ykmeans = kmeans.predict(x)\n",
    "x = np.array(x)"
   ]
  },
  {
   "cell_type": "code",
   "execution_count": 329,
   "metadata": {},
   "outputs": [
    {
     "data": {
      "text/plain": [
       "<matplotlib.collections.PathCollection at 0x7f87b307d610>"
      ]
     },
     "execution_count": 329,
     "metadata": {},
     "output_type": "execute_result"
    },
    {
     "data": {
      "image/png": "[encoded data removed]",
      "text/plain": [
       "<Figure size 432x288 with 1 Axes>"
      ]
     },
     "metadata": {
      "needs_background": "light"
     },
     "output_type": "display_data"
    }
   ],
   "source": [
    "plt.scatter(x[:, 0], x[:, 4], c = ykmeans, s = 10, cmap = 'viridis')\n",
    "centers = kmeans.cluster_centers_\n",
    "plt.scatter(centers[:, 0], centers[:, 1], c = 'black', s = 100, alpha = 0.7)"
   ]
  },
  {
   "cell_type": "markdown",
   "metadata": {},
   "source": [
    "### Problem 4\n",
    "Plot the decision boundary from the KMeans algorithm in problem 3. You are separating four clusters by lines in this problem. Some hints are here. https://datascience.stackexchange.com/questions/53918/is-there-a-way-to-put-a-separate-line-between-clusters-for-k-means-clustering"
   ]
  },
  {
   "cell_type": "code",
   "execution_count": 330,
   "metadata": {},
   "outputs": [],
   "source": [
    "h = 0.02\n",
    "x_min, x_max = x[:, 0].min() - 1, x[:, 0].max() + 1\n",
    "y_min, y_max = x[:, 4].min() - 1, x[:, 4].max() + 1\n",
    "xx, yy = np.meshgrid(np.arange(x_min, x_max, h), np.arange(y_min, y_max, h))"
   ]
  },
  {
   "cell_type": "code",
   "execution_count": null,
   "metadata": {},
   "outputs": [],
   "source": []
  }
 ],
 "metadata": {
  "kernelspec": {
   "display_name": "Python 3",
   "language": "python",
   "name": "python3"
  },
  "language_info": {
   "codemirror_mode": {
    "name": "ipython",
    "version": 3
   },
   "file_extension": ".py",
   "mimetype": "text/x-python",
   "name": "python",
   "nbconvert_exporter": "python",
   "pygments_lexer": "ipython3",
   "version": "3.8.8"
  }
 },
 "nbformat": 4,
 "nbformat_minor": 2
}
